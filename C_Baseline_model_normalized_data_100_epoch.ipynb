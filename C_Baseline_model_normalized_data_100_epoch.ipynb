{
 "cells": [
  {
   "cell_type": "markdown",
   "id": "68acb8a5-33d6-4265-80ea-75ad42844238",
   "metadata": {},
   "source": [
    "# Building a Regression Model in Keras"
   ]
  },
  {
   "cell_type": "markdown",
   "id": "0c046adb-44a7-4676-97b8-73cda544c005",
   "metadata": {},
   "source": [
    "## C. Increase the number of epochs"
   ]
  },
  {
   "cell_type": "markdown",
   "id": "58d10f87-b132-4477-a0a0-38cdba15c501",
   "metadata": {},
   "source": [
    "Repeat Part B **but use 100 epochs this time for training**."
   ]
  },
  {
   "cell_type": "markdown",
   "id": "6e63230e-9d41-45ea-861d-dd1485c77a35",
   "metadata": {},
   "source": [
    "### Import libraries that are required for the solution"
   ]
  },
  {
   "cell_type": "code",
   "execution_count": 7,
   "id": "0a435b55-04ce-4620-b836-b81a837c1d2d",
   "metadata": {},
   "outputs": [
    {
     "name": "stderr",
     "output_type": "stream",
     "text": [
      "2025-02-27 15:21:23.717316: I tensorflow/core/platform/cpu_feature_guard.cc:210] This TensorFlow binary is optimized to use available CPU instructions in performance-critical operations.\n",
      "To enable the following instructions: SSE4.1 SSE4.2 AVX AVX2 FMA, in other operations, rebuild TensorFlow with the appropriate compiler flags.\n"
     ]
    }
   ],
   "source": [
    "import keras\n",
    "import pandas as pd\n",
    "import numpy as np\n",
    "\n",
    "# for building neural network\n",
    "from keras.models import Sequential\n",
    "from keras.layers import Dense\n",
    "from keras.layers import Input\n",
    "\n",
    "# for splitting data using scikit-learn library\n",
    "from sklearn.model_selection import train_test_split\n",
    "\n",
    "# for evaluating the model with mean squared error function from scikit-learn\n",
    "from sklearn.metrics import mean_squared_error\n",
    "\n",
    "# for visualizing the mean squared errors with statistics\n",
    "import matplotlib.pyplot as plt\n",
    "\n",
    "import warnings"
   ]
  },
  {
   "cell_type": "markdown",
   "id": "66ae1122-5f15-48a9-8a3c-35b577760fd0",
   "metadata": {},
   "source": [
    "### Read the data"
   ]
  },
  {
   "cell_type": "code",
   "execution_count": 9,
   "id": "17f9dbcd-bc51-4652-9987-dcfda43c0eeb",
   "metadata": {},
   "outputs": [
    {
     "data": {
      "text/html": [
       "<div>\n",
       "<style scoped>\n",
       "    .dataframe tbody tr th:only-of-type {\n",
       "        vertical-align: middle;\n",
       "    }\n",
       "\n",
       "    .dataframe tbody tr th {\n",
       "        vertical-align: top;\n",
       "    }\n",
       "\n",
       "    .dataframe thead th {\n",
       "        text-align: right;\n",
       "    }\n",
       "</style>\n",
       "<table border=\"1\" class=\"dataframe\">\n",
       "  <thead>\n",
       "    <tr style=\"text-align: right;\">\n",
       "      <th></th>\n",
       "      <th>Cement</th>\n",
       "      <th>Blast Furnace Slag</th>\n",
       "      <th>Fly Ash</th>\n",
       "      <th>Water</th>\n",
       "      <th>Superplasticizer</th>\n",
       "      <th>Coarse Aggregate</th>\n",
       "      <th>Fine Aggregate</th>\n",
       "      <th>Age</th>\n",
       "      <th>Strength</th>\n",
       "    </tr>\n",
       "  </thead>\n",
       "  <tbody>\n",
       "    <tr>\n",
       "      <th>0</th>\n",
       "      <td>540.0</td>\n",
       "      <td>0.0</td>\n",
       "      <td>0.0</td>\n",
       "      <td>162.0</td>\n",
       "      <td>2.5</td>\n",
       "      <td>1040.0</td>\n",
       "      <td>676.0</td>\n",
       "      <td>28</td>\n",
       "      <td>79.99</td>\n",
       "    </tr>\n",
       "    <tr>\n",
       "      <th>1</th>\n",
       "      <td>540.0</td>\n",
       "      <td>0.0</td>\n",
       "      <td>0.0</td>\n",
       "      <td>162.0</td>\n",
       "      <td>2.5</td>\n",
       "      <td>1055.0</td>\n",
       "      <td>676.0</td>\n",
       "      <td>28</td>\n",
       "      <td>61.89</td>\n",
       "    </tr>\n",
       "    <tr>\n",
       "      <th>2</th>\n",
       "      <td>332.5</td>\n",
       "      <td>142.5</td>\n",
       "      <td>0.0</td>\n",
       "      <td>228.0</td>\n",
       "      <td>0.0</td>\n",
       "      <td>932.0</td>\n",
       "      <td>594.0</td>\n",
       "      <td>270</td>\n",
       "      <td>40.27</td>\n",
       "    </tr>\n",
       "    <tr>\n",
       "      <th>3</th>\n",
       "      <td>332.5</td>\n",
       "      <td>142.5</td>\n",
       "      <td>0.0</td>\n",
       "      <td>228.0</td>\n",
       "      <td>0.0</td>\n",
       "      <td>932.0</td>\n",
       "      <td>594.0</td>\n",
       "      <td>365</td>\n",
       "      <td>41.05</td>\n",
       "    </tr>\n",
       "    <tr>\n",
       "      <th>4</th>\n",
       "      <td>198.6</td>\n",
       "      <td>132.4</td>\n",
       "      <td>0.0</td>\n",
       "      <td>192.0</td>\n",
       "      <td>0.0</td>\n",
       "      <td>978.4</td>\n",
       "      <td>825.5</td>\n",
       "      <td>360</td>\n",
       "      <td>44.30</td>\n",
       "    </tr>\n",
       "  </tbody>\n",
       "</table>\n",
       "</div>"
      ],
      "text/plain": [
       "   Cement  Blast Furnace Slag  Fly Ash  Water  Superplasticizer  \\\n",
       "0   540.0                 0.0      0.0  162.0               2.5   \n",
       "1   540.0                 0.0      0.0  162.0               2.5   \n",
       "2   332.5               142.5      0.0  228.0               0.0   \n",
       "3   332.5               142.5      0.0  228.0               0.0   \n",
       "4   198.6               132.4      0.0  192.0               0.0   \n",
       "\n",
       "   Coarse Aggregate  Fine Aggregate  Age  Strength  \n",
       "0            1040.0           676.0   28     79.99  \n",
       "1            1055.0           676.0   28     61.89  \n",
       "2             932.0           594.0  270     40.27  \n",
       "3             932.0           594.0  365     41.05  \n",
       "4             978.4           825.5  360     44.30  "
      ]
     },
     "execution_count": 9,
     "metadata": {},
     "output_type": "execute_result"
    }
   ],
   "source": [
    "filepath = 'https://s3-api.us-geo.objectstorage.softlayer.net/cf-courses-data/CognitiveClass/DL0101EN/labs/data/concrete_data.csv'\n",
    "concrete_data = pd.read_csv(filepath)\n",
    "concrete_data.head()"
   ]
  },
  {
   "cell_type": "markdown",
   "id": "da255f4d-7f52-4000-8114-8f7367c6daa6",
   "metadata": {},
   "source": [
    "#### Split data into predictors and target"
   ]
  },
  {
   "cell_type": "code",
   "execution_count": 11,
   "id": "a3420c6c-8f2b-456c-9fd0-cffb03c027d3",
   "metadata": {},
   "outputs": [],
   "source": [
    "concrete_data_columns = concrete_data.columns\n",
    "\n",
    "predictors = concrete_data[concrete_data_columns[concrete_data_columns != 'Strength']]\n",
    "target = concrete_data['Strength']"
   ]
  },
  {
   "cell_type": "code",
   "execution_count": 15,
   "id": "f76a4edf-0638-4bc9-a814-fe7aa4a4efa2",
   "metadata": {},
   "outputs": [],
   "source": [
    "n_cols = predictors.shape[1]"
   ]
  },
  {
   "cell_type": "markdown",
   "id": "995cb0eb-7bb5-4f57-9746-f2b9f73f6677",
   "metadata": {},
   "source": [
    "### B. Normalize the data"
   ]
  },
  {
   "cell_type": "code",
   "execution_count": 18,
   "id": "33c6e621-9d8d-4b0c-81d6-bbaf006d3983",
   "metadata": {},
   "outputs": [
    {
     "data": {
      "text/html": [
       "<div>\n",
       "<style scoped>\n",
       "    .dataframe tbody tr th:only-of-type {\n",
       "        vertical-align: middle;\n",
       "    }\n",
       "\n",
       "    .dataframe tbody tr th {\n",
       "        vertical-align: top;\n",
       "    }\n",
       "\n",
       "    .dataframe thead th {\n",
       "        text-align: right;\n",
       "    }\n",
       "</style>\n",
       "<table border=\"1\" class=\"dataframe\">\n",
       "  <thead>\n",
       "    <tr style=\"text-align: right;\">\n",
       "      <th></th>\n",
       "      <th>Cement</th>\n",
       "      <th>Blast Furnace Slag</th>\n",
       "      <th>Fly Ash</th>\n",
       "      <th>Water</th>\n",
       "      <th>Superplasticizer</th>\n",
       "      <th>Coarse Aggregate</th>\n",
       "      <th>Fine Aggregate</th>\n",
       "      <th>Age</th>\n",
       "    </tr>\n",
       "  </thead>\n",
       "  <tbody>\n",
       "    <tr>\n",
       "      <th>0</th>\n",
       "      <td>2.476712</td>\n",
       "      <td>-0.856472</td>\n",
       "      <td>-0.846733</td>\n",
       "      <td>-0.916319</td>\n",
       "      <td>-0.620147</td>\n",
       "      <td>0.862735</td>\n",
       "      <td>-1.217079</td>\n",
       "      <td>-0.279597</td>\n",
       "    </tr>\n",
       "    <tr>\n",
       "      <th>1</th>\n",
       "      <td>2.476712</td>\n",
       "      <td>-0.856472</td>\n",
       "      <td>-0.846733</td>\n",
       "      <td>-0.916319</td>\n",
       "      <td>-0.620147</td>\n",
       "      <td>1.055651</td>\n",
       "      <td>-1.217079</td>\n",
       "      <td>-0.279597</td>\n",
       "    </tr>\n",
       "    <tr>\n",
       "      <th>2</th>\n",
       "      <td>0.491187</td>\n",
       "      <td>0.795140</td>\n",
       "      <td>-0.846733</td>\n",
       "      <td>2.174405</td>\n",
       "      <td>-1.038638</td>\n",
       "      <td>-0.526262</td>\n",
       "      <td>-2.239829</td>\n",
       "      <td>3.551340</td>\n",
       "    </tr>\n",
       "    <tr>\n",
       "      <th>3</th>\n",
       "      <td>0.491187</td>\n",
       "      <td>0.795140</td>\n",
       "      <td>-0.846733</td>\n",
       "      <td>2.174405</td>\n",
       "      <td>-1.038638</td>\n",
       "      <td>-0.526262</td>\n",
       "      <td>-2.239829</td>\n",
       "      <td>5.055221</td>\n",
       "    </tr>\n",
       "    <tr>\n",
       "      <th>4</th>\n",
       "      <td>-0.790075</td>\n",
       "      <td>0.678079</td>\n",
       "      <td>-0.846733</td>\n",
       "      <td>0.488555</td>\n",
       "      <td>-1.038638</td>\n",
       "      <td>0.070492</td>\n",
       "      <td>0.647569</td>\n",
       "      <td>4.976069</td>\n",
       "    </tr>\n",
       "  </tbody>\n",
       "</table>\n",
       "</div>"
      ],
      "text/plain": [
       "     Cement  Blast Furnace Slag   Fly Ash     Water  Superplasticizer  \\\n",
       "0  2.476712           -0.856472 -0.846733 -0.916319         -0.620147   \n",
       "1  2.476712           -0.856472 -0.846733 -0.916319         -0.620147   \n",
       "2  0.491187            0.795140 -0.846733  2.174405         -1.038638   \n",
       "3  0.491187            0.795140 -0.846733  2.174405         -1.038638   \n",
       "4 -0.790075            0.678079 -0.846733  0.488555         -1.038638   \n",
       "\n",
       "   Coarse Aggregate  Fine Aggregate       Age  \n",
       "0          0.862735       -1.217079 -0.279597  \n",
       "1          1.055651       -1.217079 -0.279597  \n",
       "2         -0.526262       -2.239829  3.551340  \n",
       "3         -0.526262       -2.239829  5.055221  \n",
       "4          0.070492        0.647569  4.976069  "
      ]
     },
     "execution_count": 18,
     "metadata": {},
     "output_type": "execute_result"
    }
   ],
   "source": [
    "predictors_normalized = (predictors - predictors.mean())/ predictors.std()\n",
    "predictors_normalized.head()"
   ]
  },
  {
   "cell_type": "markdown",
   "id": "3bb89b38-cb27-46e3-b771-3e8eaeb7c9f7",
   "metadata": {},
   "source": [
    "#### Build Neural Network"
   ]
  },
  {
   "cell_type": "markdown",
   "id": "ec26eeb1-0128-4185-ac13-635cbe75cae0",
   "metadata": {},
   "source": [
    "Defining a function that defines our regression model for us so that we can conveniently call it to create our model. "
   ]
  },
  {
   "cell_type": "code",
   "execution_count": 22,
   "id": "59bead0a-dc8b-45e3-867e-a3d260c564f4",
   "metadata": {},
   "outputs": [],
   "source": [
    "def regression_model():\n",
    "    # Create a model with 10 hidden layers, ReLU activation function,\n",
    "    #   use adam optimizer, and the mean squared error as loss function\n",
    "    model = Sequential()\n",
    "    model.add(Input(shape=(n_cols,)))\n",
    "    model.add(Dense(10, activation='relu'))\n",
    "    model.add(Dense(1))\n",
    "\n",
    "    # compile model\n",
    "    model.compile(optimizer='adam', loss='mean_squared_error')\n",
    "\n",
    "    return model"
   ]
  },
  {
   "cell_type": "markdown",
   "id": "21c732d0-3272-47c1-8908-ee54300ed371",
   "metadata": {},
   "source": [
    "### 1. Split the data to training and testing"
   ]
  },
  {
   "cell_type": "markdown",
   "id": "dd6c11a2-c716-4b20-99a6-5bcc4962932e",
   "metadata": {},
   "source": [
    "Randomly splitting the data into a training and test sets by holding 30% of the data for testing using **train_test_split** function from the scikit-learn module.\n",
    "\n",
    "<div class=\"alert alert-info\"> \n",
    "\n",
    "  **Note:** We will be using the normalized data\n",
    "\n",
    "</div> "
   ]
  },
  {
   "cell_type": "code",
   "execution_count": 26,
   "id": "a96d43fa-56e7-45f3-83cb-ce44ee2382c5",
   "metadata": {},
   "outputs": [],
   "source": [
    "X_train, X_test, y_train, y_test = train_test_split(predictors_normalized,target,test_size=0.3,random_state=42)"
   ]
  },
  {
   "cell_type": "markdown",
   "id": "7807796e-cc80-44be-8463-016139e677b7",
   "metadata": {},
   "source": [
    "### 2. Train the model"
   ]
  },
  {
   "cell_type": "markdown",
   "id": "4e00f6bb-26e9-4aa3-a3ec-c514e077b4c0",
   "metadata": {},
   "source": [
    "Train the model on the training data using **100 epochs**."
   ]
  },
  {
   "cell_type": "code",
   "execution_count": 31,
   "id": "263a784d-0838-416e-b44e-e86b3d95e09a",
   "metadata": {},
   "outputs": [
    {
     "name": "stdout",
     "output_type": "stream",
     "text": [
      "Epoch 1/100\n",
      "23/23 - 1s - 28ms/step - loss: 1596.2191\n",
      "Epoch 2/100\n",
      "23/23 - 0s - 3ms/step - loss: 1578.4534\n",
      "Epoch 3/100\n",
      "23/23 - 0s - 2ms/step - loss: 1561.2247\n",
      "Epoch 4/100\n",
      "23/23 - 0s - 3ms/step - loss: 1543.4906\n",
      "Epoch 5/100\n",
      "23/23 - 0s - 2ms/step - loss: 1525.7084\n",
      "Epoch 6/100\n",
      "23/23 - 0s - 3ms/step - loss: 1507.9719\n",
      "Epoch 7/100\n",
      "23/23 - 0s - 3ms/step - loss: 1488.9220\n",
      "Epoch 8/100\n",
      "23/23 - 0s - 2ms/step - loss: 1469.8082\n",
      "Epoch 9/100\n",
      "23/23 - 0s - 3ms/step - loss: 1449.7233\n",
      "Epoch 10/100\n",
      "23/23 - 0s - 3ms/step - loss: 1428.5125\n",
      "Epoch 11/100\n",
      "23/23 - 0s - 2ms/step - loss: 1406.2421\n",
      "Epoch 12/100\n",
      "23/23 - 0s - 3ms/step - loss: 1383.0547\n",
      "Epoch 13/100\n",
      "23/23 - 0s - 2ms/step - loss: 1358.6060\n",
      "Epoch 14/100\n",
      "23/23 - 0s - 3ms/step - loss: 1332.7802\n",
      "Epoch 15/100\n",
      "23/23 - 0s - 3ms/step - loss: 1305.3990\n",
      "Epoch 16/100\n",
      "23/23 - 0s - 3ms/step - loss: 1276.9884\n",
      "Epoch 17/100\n",
      "23/23 - 0s - 3ms/step - loss: 1247.0100\n",
      "Epoch 18/100\n",
      "23/23 - 0s - 3ms/step - loss: 1216.0699\n",
      "Epoch 19/100\n",
      "23/23 - 0s - 3ms/step - loss: 1183.7229\n",
      "Epoch 20/100\n",
      "23/23 - 0s - 3ms/step - loss: 1150.1860\n",
      "Epoch 21/100\n",
      "23/23 - 0s - 3ms/step - loss: 1115.9526\n",
      "Epoch 22/100\n",
      "23/23 - 0s - 2ms/step - loss: 1080.3014\n",
      "Epoch 23/100\n",
      "23/23 - 0s - 2ms/step - loss: 1044.6588\n",
      "Epoch 24/100\n",
      "23/23 - 0s - 2ms/step - loss: 1008.3272\n",
      "Epoch 25/100\n",
      "23/23 - 0s - 2ms/step - loss: 971.2770\n",
      "Epoch 26/100\n",
      "23/23 - 0s - 3ms/step - loss: 934.1819\n",
      "Epoch 27/100\n",
      "23/23 - 0s - 3ms/step - loss: 897.3586\n",
      "Epoch 28/100\n",
      "23/23 - 0s - 3ms/step - loss: 861.0596\n",
      "Epoch 29/100\n",
      "23/23 - 0s - 3ms/step - loss: 825.2548\n",
      "Epoch 30/100\n",
      "23/23 - 0s - 3ms/step - loss: 789.9049\n",
      "Epoch 31/100\n",
      "23/23 - 0s - 3ms/step - loss: 756.0316\n",
      "Epoch 32/100\n",
      "23/23 - 0s - 3ms/step - loss: 722.3728\n",
      "Epoch 33/100\n",
      "23/23 - 0s - 3ms/step - loss: 690.1149\n",
      "Epoch 34/100\n",
      "23/23 - 0s - 2ms/step - loss: 658.8367\n",
      "Epoch 35/100\n",
      "23/23 - 0s - 2ms/step - loss: 628.5681\n",
      "Epoch 36/100\n",
      "23/23 - 0s - 2ms/step - loss: 599.6744\n",
      "Epoch 37/100\n",
      "23/23 - 0s - 2ms/step - loss: 571.8165\n",
      "Epoch 38/100\n",
      "23/23 - 0s - 2ms/step - loss: 545.3832\n",
      "Epoch 39/100\n",
      "23/23 - 0s - 2ms/step - loss: 519.9206\n",
      "Epoch 40/100\n",
      "23/23 - 0s - 2ms/step - loss: 495.9717\n",
      "Epoch 41/100\n",
      "23/23 - 0s - 2ms/step - loss: 473.3273\n",
      "Epoch 42/100\n",
      "23/23 - 0s - 2ms/step - loss: 451.7823\n",
      "Epoch 43/100\n",
      "23/23 - 0s - 2ms/step - loss: 431.5969\n",
      "Epoch 44/100\n",
      "23/23 - 0s - 2ms/step - loss: 412.5399\n",
      "Epoch 45/100\n",
      "23/23 - 0s - 2ms/step - loss: 395.1240\n",
      "Epoch 46/100\n",
      "23/23 - 0s - 2ms/step - loss: 378.2688\n",
      "Epoch 47/100\n",
      "23/23 - 0s - 2ms/step - loss: 362.9815\n",
      "Epoch 48/100\n",
      "23/23 - 0s - 2ms/step - loss: 348.4897\n",
      "Epoch 49/100\n",
      "23/23 - 0s - 2ms/step - loss: 335.1139\n",
      "Epoch 50/100\n",
      "23/23 - 0s - 2ms/step - loss: 322.4631\n",
      "Epoch 51/100\n",
      "23/23 - 0s - 2ms/step - loss: 310.8285\n",
      "Epoch 52/100\n",
      "23/23 - 0s - 2ms/step - loss: 300.1095\n",
      "Epoch 53/100\n",
      "23/23 - 0s - 2ms/step - loss: 289.9085\n",
      "Epoch 54/100\n",
      "23/23 - 0s - 3ms/step - loss: 280.6133\n",
      "Epoch 55/100\n",
      "23/23 - 0s - 2ms/step - loss: 271.9685\n",
      "Epoch 56/100\n",
      "23/23 - 0s - 2ms/step - loss: 263.9465\n",
      "Epoch 57/100\n",
      "23/23 - 0s - 2ms/step - loss: 256.2838\n",
      "Epoch 58/100\n",
      "23/23 - 0s - 2ms/step - loss: 249.3465\n",
      "Epoch 59/100\n",
      "23/23 - 0s - 2ms/step - loss: 242.8721\n",
      "Epoch 60/100\n",
      "23/23 - 0s - 2ms/step - loss: 236.5616\n",
      "Epoch 61/100\n",
      "23/23 - 0s - 2ms/step - loss: 231.0192\n",
      "Epoch 62/100\n",
      "23/23 - 0s - 2ms/step - loss: 225.4919\n",
      "Epoch 63/100\n",
      "23/23 - 0s - 3ms/step - loss: 220.5517\n",
      "Epoch 64/100\n",
      "23/23 - 0s - 2ms/step - loss: 215.8431\n",
      "Epoch 65/100\n",
      "23/23 - 0s - 3ms/step - loss: 211.5377\n",
      "Epoch 66/100\n",
      "23/23 - 0s - 2ms/step - loss: 207.4811\n",
      "Epoch 67/100\n",
      "23/23 - 0s - 2ms/step - loss: 203.5761\n",
      "Epoch 68/100\n",
      "23/23 - 0s - 5ms/step - loss: 199.9780\n",
      "Epoch 69/100\n",
      "23/23 - 0s - 3ms/step - loss: 196.5523\n",
      "Epoch 70/100\n",
      "23/23 - 0s - 3ms/step - loss: 193.5004\n",
      "Epoch 71/100\n",
      "23/23 - 0s - 3ms/step - loss: 190.4669\n",
      "Epoch 72/100\n",
      "23/23 - 0s - 3ms/step - loss: 187.7756\n",
      "Epoch 73/100\n",
      "23/23 - 0s - 2ms/step - loss: 185.1443\n",
      "Epoch 74/100\n",
      "23/23 - 0s - 2ms/step - loss: 182.7482\n",
      "Epoch 75/100\n",
      "23/23 - 0s - 2ms/step - loss: 180.4536\n",
      "Epoch 76/100\n",
      "23/23 - 0s - 3ms/step - loss: 178.3975\n",
      "Epoch 77/100\n",
      "23/23 - 0s - 3ms/step - loss: 176.3607\n",
      "Epoch 78/100\n",
      "23/23 - 0s - 2ms/step - loss: 174.5616\n",
      "Epoch 79/100\n",
      "23/23 - 0s - 2ms/step - loss: 172.8445\n",
      "Epoch 80/100\n",
      "23/23 - 0s - 2ms/step - loss: 171.1693\n",
      "Epoch 81/100\n",
      "23/23 - 0s - 2ms/step - loss: 169.6676\n",
      "Epoch 82/100\n",
      "23/23 - 0s - 2ms/step - loss: 168.1315\n",
      "Epoch 83/100\n",
      "23/23 - 0s - 2ms/step - loss: 166.7369\n",
      "Epoch 84/100\n",
      "23/23 - 0s - 2ms/step - loss: 165.4239\n",
      "Epoch 85/100\n",
      "23/23 - 0s - 2ms/step - loss: 164.2043\n",
      "Epoch 86/100\n",
      "23/23 - 0s - 2ms/step - loss: 162.9955\n",
      "Epoch 87/100\n",
      "23/23 - 0s - 2ms/step - loss: 161.9315\n",
      "Epoch 88/100\n",
      "23/23 - 0s - 2ms/step - loss: 160.8537\n",
      "Epoch 89/100\n",
      "23/23 - 0s - 2ms/step - loss: 159.9330\n",
      "Epoch 90/100\n",
      "23/23 - 0s - 6ms/step - loss: 158.8643\n",
      "Epoch 91/100\n",
      "23/23 - 0s - 3ms/step - loss: 157.9671\n",
      "Epoch 92/100\n",
      "23/23 - 0s - 8ms/step - loss: 157.1313\n",
      "Epoch 93/100\n",
      "23/23 - 0s - 3ms/step - loss: 156.2554\n",
      "Epoch 94/100\n",
      "23/23 - 0s - 2ms/step - loss: 155.4835\n",
      "Epoch 95/100\n",
      "23/23 - 0s - 2ms/step - loss: 154.7723\n",
      "Epoch 96/100\n",
      "23/23 - 0s - 2ms/step - loss: 154.0398\n",
      "Epoch 97/100\n",
      "23/23 - 0s - 3ms/step - loss: 153.3150\n",
      "Epoch 98/100\n",
      "23/23 - 0s - 3ms/step - loss: 152.6409\n",
      "Epoch 99/100\n",
      "23/23 - 0s - 3ms/step - loss: 151.9482\n",
      "Epoch 100/100\n",
      "23/23 - 0s - 3ms/step - loss: 151.3378\n"
     ]
    },
    {
     "data": {
      "text/plain": [
       "<keras.src.callbacks.history.History at 0x1067c4910>"
      ]
     },
     "execution_count": 31,
     "metadata": {},
     "output_type": "execute_result"
    }
   ],
   "source": [
    "# build the model\n",
    "model = regression_model()\n",
    "model.fit(X_train, y_train, epochs=100, verbose=2)"
   ]
  },
  {
   "cell_type": "markdown",
   "id": "ada07b07-8c2c-4223-b9fc-f55c3d24a9ac",
   "metadata": {},
   "source": [
    "### 3. Evaluate the Model on the test data"
   ]
  },
  {
   "cell_type": "markdown",
   "id": "485ac393-71e7-4f36-8884-3f37818ebf70",
   "metadata": {},
   "source": [
    " Evaluating the model on the test data "
   ]
  },
  {
   "cell_type": "code",
   "execution_count": 36,
   "id": "d77f3f3e-8aba-4792-a147-19fb204e9129",
   "metadata": {},
   "outputs": [
    {
     "name": "stdout",
     "output_type": "stream",
     "text": [
      "\u001b[1m10/10\u001b[0m \u001b[32m━━━━━━━━━━━━━━━━━━━━\u001b[0m\u001b[37m\u001b[0m \u001b[1m0s\u001b[0m 5ms/step \n"
     ]
    }
   ],
   "source": [
    "# Prediction\n",
    "predictions = model.predict(X_test)"
   ]
  },
  {
   "cell_type": "markdown",
   "id": "cb6fa61e-a181-4afb-bbd9-ec644d704ade",
   "metadata": {},
   "source": [
    "computing the mean squared error between the predicted concrete strength and the actual concrete strength using mean_squared_error function from Scikit-learn."
   ]
  },
  {
   "cell_type": "code",
   "execution_count": 39,
   "id": "af7725df-a8bb-4fed-816d-f8252ccad8cb",
   "metadata": {},
   "outputs": [
    {
     "name": "stdout",
     "output_type": "stream",
     "text": [
      "Mean Squared Error after testing the model: 146.5545185159128\n"
     ]
    }
   ],
   "source": [
    "mse = mean_squared_error(y_test, predictions)\n",
    "print(f\"Mean Squared Error after testing the model: {mse}\")"
   ]
  },
  {
   "cell_type": "markdown",
   "id": "c73c8b44-af5c-4c1a-a626-72bd71b6d713",
   "metadata": {},
   "source": [
    "### 4. Repeating the steps 1-3, 50 times"
   ]
  },
  {
   "cell_type": "code",
   "execution_count": 64,
   "id": "52720043-f659-42f3-86b4-f9daeb005bab",
   "metadata": {},
   "outputs": [
    {
     "name": "stdout",
     "output_type": "stream",
     "text": [
      "Step # 0\n",
      "\u001b[1m10/10\u001b[0m \u001b[32m━━━━━━━━━━━━━━━━━━━━\u001b[0m\u001b[37m\u001b[0m \u001b[1m0s\u001b[0m 5ms/step \n",
      "Step # 1\n",
      "\u001b[1m10/10\u001b[0m \u001b[32m━━━━━━━━━━━━━━━━━━━━\u001b[0m\u001b[37m\u001b[0m \u001b[1m0s\u001b[0m 5ms/step \n",
      "Step # 2\n",
      "\u001b[1m10/10\u001b[0m \u001b[32m━━━━━━━━━━━━━━━━━━━━\u001b[0m\u001b[37m\u001b[0m \u001b[1m0s\u001b[0m 5ms/step \n",
      "Step # 3\n",
      "\u001b[1m10/10\u001b[0m \u001b[32m━━━━━━━━━━━━━━━━━━━━\u001b[0m\u001b[37m\u001b[0m \u001b[1m0s\u001b[0m 4ms/step \n",
      "Step # 4\n",
      "\u001b[1m10/10\u001b[0m \u001b[32m━━━━━━━━━━━━━━━━━━━━\u001b[0m\u001b[37m\u001b[0m \u001b[1m0s\u001b[0m 4ms/step \n",
      "Step # 5\n",
      "\u001b[1m10/10\u001b[0m \u001b[32m━━━━━━━━━━━━━━━━━━━━\u001b[0m\u001b[37m\u001b[0m \u001b[1m0s\u001b[0m 4ms/step \n",
      "Step # 6\n",
      "\u001b[1m10/10\u001b[0m \u001b[32m━━━━━━━━━━━━━━━━━━━━\u001b[0m\u001b[37m\u001b[0m \u001b[1m0s\u001b[0m 4ms/step \n",
      "Step # 7\n",
      "\u001b[1m10/10\u001b[0m \u001b[32m━━━━━━━━━━━━━━━━━━━━\u001b[0m\u001b[37m\u001b[0m \u001b[1m0s\u001b[0m 4ms/step \n",
      "Step # 8\n",
      "\u001b[1m10/10\u001b[0m \u001b[32m━━━━━━━━━━━━━━━━━━━━\u001b[0m\u001b[37m\u001b[0m \u001b[1m0s\u001b[0m 5ms/step \n",
      "Step # 9\n",
      "\u001b[1m10/10\u001b[0m \u001b[32m━━━━━━━━━━━━━━━━━━━━\u001b[0m\u001b[37m\u001b[0m \u001b[1m0s\u001b[0m 4ms/step \n",
      "Step # 10\n",
      "\u001b[1m10/10\u001b[0m \u001b[32m━━━━━━━━━━━━━━━━━━━━\u001b[0m\u001b[37m\u001b[0m \u001b[1m0s\u001b[0m 5ms/step \n",
      "Step # 11\n",
      "\u001b[1m10/10\u001b[0m \u001b[32m━━━━━━━━━━━━━━━━━━━━\u001b[0m\u001b[37m\u001b[0m \u001b[1m0s\u001b[0m 4ms/step \n",
      "Step # 12\n",
      "\u001b[1m10/10\u001b[0m \u001b[32m━━━━━━━━━━━━━━━━━━━━\u001b[0m\u001b[37m\u001b[0m \u001b[1m0s\u001b[0m 4ms/step \n",
      "Step # 13\n",
      "\u001b[1m10/10\u001b[0m \u001b[32m━━━━━━━━━━━━━━━━━━━━\u001b[0m\u001b[37m\u001b[0m \u001b[1m0s\u001b[0m 5ms/step \n",
      "Step # 14\n",
      "\u001b[1m10/10\u001b[0m \u001b[32m━━━━━━━━━━━━━━━━━━━━\u001b[0m\u001b[37m\u001b[0m \u001b[1m0s\u001b[0m 4ms/step \n",
      "Step # 15\n",
      "\u001b[1m10/10\u001b[0m \u001b[32m━━━━━━━━━━━━━━━━━━━━\u001b[0m\u001b[37m\u001b[0m \u001b[1m0s\u001b[0m 5ms/step \n",
      "Step # 16\n",
      "\u001b[1m10/10\u001b[0m \u001b[32m━━━━━━━━━━━━━━━━━━━━\u001b[0m\u001b[37m\u001b[0m \u001b[1m0s\u001b[0m 4ms/step \n",
      "Step # 17\n",
      "\u001b[1m10/10\u001b[0m \u001b[32m━━━━━━━━━━━━━━━━━━━━\u001b[0m\u001b[37m\u001b[0m \u001b[1m0s\u001b[0m 4ms/step \n",
      "Step # 18\n",
      "\u001b[1m10/10\u001b[0m \u001b[32m━━━━━━━━━━━━━━━━━━━━\u001b[0m\u001b[37m\u001b[0m \u001b[1m0s\u001b[0m 4ms/step \n",
      "Step # 19\n",
      "\u001b[1m10/10\u001b[0m \u001b[32m━━━━━━━━━━━━━━━━━━━━\u001b[0m\u001b[37m\u001b[0m \u001b[1m0s\u001b[0m 4ms/step \n",
      "Step # 20\n",
      "\u001b[1m10/10\u001b[0m \u001b[32m━━━━━━━━━━━━━━━━━━━━\u001b[0m\u001b[37m\u001b[0m \u001b[1m0s\u001b[0m 5ms/step \n",
      "Step # 21\n",
      "\u001b[1m10/10\u001b[0m \u001b[32m━━━━━━━━━━━━━━━━━━━━\u001b[0m\u001b[37m\u001b[0m \u001b[1m0s\u001b[0m 5ms/step \n",
      "Step # 22\n",
      "\u001b[1m10/10\u001b[0m \u001b[32m━━━━━━━━━━━━━━━━━━━━\u001b[0m\u001b[37m\u001b[0m \u001b[1m0s\u001b[0m 4ms/step \n",
      "Step # 23\n",
      "\u001b[1m10/10\u001b[0m \u001b[32m━━━━━━━━━━━━━━━━━━━━\u001b[0m\u001b[37m\u001b[0m \u001b[1m0s\u001b[0m 4ms/step \n",
      "Step # 24\n",
      "\u001b[1m10/10\u001b[0m \u001b[32m━━━━━━━━━━━━━━━━━━━━\u001b[0m\u001b[37m\u001b[0m \u001b[1m0s\u001b[0m 5ms/step \n",
      "Step # 25\n",
      "\u001b[1m10/10\u001b[0m \u001b[32m━━━━━━━━━━━━━━━━━━━━\u001b[0m\u001b[37m\u001b[0m \u001b[1m0s\u001b[0m 4ms/step \n",
      "Step # 26\n",
      "\u001b[1m10/10\u001b[0m \u001b[32m━━━━━━━━━━━━━━━━━━━━\u001b[0m\u001b[37m\u001b[0m \u001b[1m0s\u001b[0m 4ms/step \n",
      "Step # 27\n",
      "\u001b[1m10/10\u001b[0m \u001b[32m━━━━━━━━━━━━━━━━━━━━\u001b[0m\u001b[37m\u001b[0m \u001b[1m0s\u001b[0m 5ms/step \n",
      "Step # 28\n",
      "\u001b[1m10/10\u001b[0m \u001b[32m━━━━━━━━━━━━━━━━━━━━\u001b[0m\u001b[37m\u001b[0m \u001b[1m0s\u001b[0m 4ms/step \n",
      "Step # 29\n",
      "\u001b[1m10/10\u001b[0m \u001b[32m━━━━━━━━━━━━━━━━━━━━\u001b[0m\u001b[37m\u001b[0m \u001b[1m0s\u001b[0m 5ms/step \n",
      "Step # 30\n",
      "\u001b[1m10/10\u001b[0m \u001b[32m━━━━━━━━━━━━━━━━━━━━\u001b[0m\u001b[37m\u001b[0m \u001b[1m0s\u001b[0m 5ms/step \n",
      "Step # 31\n",
      "\u001b[1m10/10\u001b[0m \u001b[32m━━━━━━━━━━━━━━━━━━━━\u001b[0m\u001b[37m\u001b[0m \u001b[1m0s\u001b[0m 4ms/step \n",
      "Step # 32\n",
      "\u001b[1m10/10\u001b[0m \u001b[32m━━━━━━━━━━━━━━━━━━━━\u001b[0m\u001b[37m\u001b[0m \u001b[1m0s\u001b[0m 5ms/step \n",
      "Step # 33\n",
      "\u001b[1m10/10\u001b[0m \u001b[32m━━━━━━━━━━━━━━━━━━━━\u001b[0m\u001b[37m\u001b[0m \u001b[1m0s\u001b[0m 5ms/step \n",
      "Step # 34\n",
      "\u001b[1m10/10\u001b[0m \u001b[32m━━━━━━━━━━━━━━━━━━━━\u001b[0m\u001b[37m\u001b[0m \u001b[1m0s\u001b[0m 6ms/step \n",
      "Step # 35\n",
      "\u001b[1m10/10\u001b[0m \u001b[32m━━━━━━━━━━━━━━━━━━━━\u001b[0m\u001b[37m\u001b[0m \u001b[1m0s\u001b[0m 5ms/step \n",
      "Step # 36\n",
      "\u001b[1m10/10\u001b[0m \u001b[32m━━━━━━━━━━━━━━━━━━━━\u001b[0m\u001b[37m\u001b[0m \u001b[1m0s\u001b[0m 4ms/step \n",
      "Step # 37\n",
      "\u001b[1m10/10\u001b[0m \u001b[32m━━━━━━━━━━━━━━━━━━━━\u001b[0m\u001b[37m\u001b[0m \u001b[1m0s\u001b[0m 4ms/step \n",
      "Step # 38\n",
      "\u001b[1m10/10\u001b[0m \u001b[32m━━━━━━━━━━━━━━━━━━━━\u001b[0m\u001b[37m\u001b[0m \u001b[1m0s\u001b[0m 5ms/step \n",
      "Step # 39\n",
      "\u001b[1m10/10\u001b[0m \u001b[32m━━━━━━━━━━━━━━━━━━━━\u001b[0m\u001b[37m\u001b[0m \u001b[1m0s\u001b[0m 4ms/step \n",
      "Step # 40\n",
      "\u001b[1m10/10\u001b[0m \u001b[32m━━━━━━━━━━━━━━━━━━━━\u001b[0m\u001b[37m\u001b[0m \u001b[1m0s\u001b[0m 6ms/step \n",
      "Step # 41\n",
      "\u001b[1m10/10\u001b[0m \u001b[32m━━━━━━━━━━━━━━━━━━━━\u001b[0m\u001b[37m\u001b[0m \u001b[1m0s\u001b[0m 5ms/step \n",
      "Step # 42\n",
      "\u001b[1m10/10\u001b[0m \u001b[32m━━━━━━━━━━━━━━━━━━━━\u001b[0m\u001b[37m\u001b[0m \u001b[1m0s\u001b[0m 6ms/step \n",
      "Step # 43\n",
      "\u001b[1m10/10\u001b[0m \u001b[32m━━━━━━━━━━━━━━━━━━━━\u001b[0m\u001b[37m\u001b[0m \u001b[1m0s\u001b[0m 4ms/step \n",
      "Step # 44\n",
      "\u001b[1m10/10\u001b[0m \u001b[32m━━━━━━━━━━━━━━━━━━━━\u001b[0m\u001b[37m\u001b[0m \u001b[1m0s\u001b[0m 5ms/step \n",
      "Step # 45\n",
      "\u001b[1m10/10\u001b[0m \u001b[32m━━━━━━━━━━━━━━━━━━━━\u001b[0m\u001b[37m\u001b[0m \u001b[1m0s\u001b[0m 6ms/step \n",
      "Step # 46\n",
      "\u001b[1m10/10\u001b[0m \u001b[32m━━━━━━━━━━━━━━━━━━━━\u001b[0m\u001b[37m\u001b[0m \u001b[1m0s\u001b[0m 5ms/step \n",
      "Step # 47\n",
      "\u001b[1m10/10\u001b[0m \u001b[32m━━━━━━━━━━━━━━━━━━━━\u001b[0m\u001b[37m\u001b[0m \u001b[1m0s\u001b[0m 5ms/step \n",
      "Step # 48\n",
      "\u001b[1m10/10\u001b[0m \u001b[32m━━━━━━━━━━━━━━━━━━━━\u001b[0m\u001b[37m\u001b[0m \u001b[1m0s\u001b[0m 5ms/step \n",
      "Step # 49\n",
      "\u001b[1m10/10\u001b[0m \u001b[32m━━━━━━━━━━━━━━━━━━━━\u001b[0m\u001b[37m\u001b[0m \u001b[1m0s\u001b[0m 5ms/step \n",
      "[153.01381296711665, 163.65262932479035, 155.29601821364062, 153.28832887595647, 141.3481513565553, 146.5536369990122, 151.52165051066277, 151.54205413233942, 144.08398965653507, 165.47683379614182, 164.6993439089122, 137.5917784097068, 152.2448874511206, 155.7833851483438, 153.58437967918402, 159.38368650627788, 155.99140559261917, 153.22233990819305, 146.5319843821944, 165.45773520639247, 159.4802783030632, 143.73299128785987, 141.1502625679275, 186.44382904281773, 164.42542571274626, 152.1156607712714, 183.07101006333554, 151.893800786997, 156.39281987496852, 158.79987413017395, 152.95905575491363, 172.68779664400344, 149.54313208206733, 148.8742943625837, 153.24031416611373, 152.7122236795831, 144.8645030427658, 148.80736202631297, 143.9857538123408, 151.34506648532107, 167.80450750264797, 157.19308819617615, 158.32621165649545, 161.79191189063698, 143.6780332425047, 150.16047799445033, 158.82106717492758, 150.50643933982593, 146.51028655402538, 152.043084919729]\n"
     ]
    }
   ],
   "source": [
    "# Empty list for storing al MSE values\n",
    "mse_normalized_100_epoch =[]\n",
    "\n",
    "for i in range(50):\n",
    "    print(f\"Step # {i}\")\n",
    "    # 1. Randomly split the data by holding 30% of the data for testing\n",
    "    X_train, X_test, y_train, y_test = train_test_split(predictors_normalized,target,test_size=0.3,random_state=42)\n",
    "\n",
    "    # 2. Train the model for 100 epochs\n",
    "    model = regression_model()\n",
    "    model.fit(X_train, y_train, epochs=100, verbose=0)\n",
    "\n",
    "    predictions = model.predict(X_test)\n",
    "\n",
    "    # 3. Evaluate the model\n",
    "    mse = mean_squared_error(y_test, predictions)\n",
    "    mse_normalized_100_epoch.append(mse)\n",
    "\n",
    "print(mse_normalized_100_epoch)"
   ]
  },
  {
   "cell_type": "code",
   "execution_count": 67,
   "id": "03060f62-7cd9-40a0-b044-0bb194b3ac16",
   "metadata": {},
   "outputs": [],
   "source": [
    "# Create a dataframe with the MSE scores\n",
    "x_values = np.arange(len(mse_normalized_100_epoch))\n",
    "\n",
    "df_normalized = pd.DataFrame({\n",
    "    'iteration': x_values,\n",
    "    'mse': mse_normalized\n",
    "})\n",
    "\n",
    "# Save to CSV\n",
    "df_normalized.to_csv('neural_network_regression_normalized_mse_100_epoch.csv', index=False)"
   ]
  },
  {
   "cell_type": "markdown",
   "id": "820a3e9f-0e10-406d-bdd2-44c90feb9e7f",
   "metadata": {},
   "source": [
    "### 5. Reporting the mean and standard deviation of the mean squared errors"
   ]
  },
  {
   "cell_type": "code",
   "execution_count": 70,
   "id": "bfa383ec-ac06-45c2-a206-2882cd5ea84c",
   "metadata": {},
   "outputs": [
    {
     "name": "stdout",
     "output_type": "stream",
     "text": [
      "Mean of MSE: 154.67257190188565\n",
      "Standard Deviation of MSE: 9.590854488788635\n"
     ]
    }
   ],
   "source": [
    "# Calculate the mean and standard deviation\n",
    "mean_mse_normalized_100 = np.mean(mse_normalized_100_epoch)\n",
    "std_mse_normalized_100 = np.std(mse_normalized_100_epoch)\n",
    "\n",
    "# Print the values on screen\n",
    "print(f\"Mean of MSE: {mean_mse_normalized_100}\")\n",
    "print(f\"Standard Deviation of MSE: {std_mse_normalized_100}\")"
   ]
  },
  {
   "cell_type": "markdown",
   "id": "02cc4c4b-a90a-44b6-8309-42aacf056bf2",
   "metadata": {},
   "source": [
    "For comparison, lets get the mean squared errors calculated from normalized data (with 50 epochs)"
   ]
  },
  {
   "cell_type": "code",
   "execution_count": 73,
   "id": "41c7bb49-eb2c-4098-8387-20d0eb44260c",
   "metadata": {},
   "outputs": [
    {
     "name": "stdout",
     "output_type": "stream",
     "text": [
      "Mean of MSE (unnormalized): 347.9859481570286\n",
      "Standard Deviation of MSE (unnormalized): 94.15356142954823\n"
     ]
    }
   ],
   "source": [
    "df_mse_normalized = pd.read_csv('neural_network_regression_normalized_mse.csv')\n",
    "mean_mse_normalized = df_mse_normalized['mse'].mean()\n",
    "std_mse_normalized = df_mse_normalized['mse'].std(ddof=0)\n",
    "\n",
    "print(f\"Mean of MSE (unnormalized): {mean_mse_normalized}\")\n",
    "print(f\"Standard Deviation of MSE (unnormalized): {std_mse_normalized}\")"
   ]
  },
  {
   "cell_type": "code",
   "execution_count": 75,
   "id": "aa97b124-e5ef-4eb1-8cc6-6f4309f99319",
   "metadata": {},
   "outputs": [
    {
     "data": {
      "image/png": "[encoded data removed]",
      "text/plain": [
       "<Figure size 1200x600 with 2 Axes>"
      ]
     },
     "metadata": {},
     "output_type": "display_data"
    }
   ],
   "source": [
    "x_values = np.arange(len(mse_normalized))\n",
    "\n",
    "# Calculate the overall min and max for y-axis\n",
    "y_min = min(min(mse_normalized_100_epoch), df_mse_normalized['mse'].min())\n",
    "y_max = max(max(mse_normalized_100_epoch), df_mse_normalized['mse'].max())\n",
    "\n",
    "# Add some padding (e.g., 5%) to make sure all elements are visible\n",
    "padding = (y_max - y_min) * 0.05\n",
    "y_min = y_min - padding\n",
    "y_max = y_max + padding\n",
    "\n",
    "plt.figure(figsize=(12, 6))\n",
    "\n",
    "# Normalized data plot\n",
    "plt.subplot(1, 2, 1)\n",
    "plt.scatter(x_values, mse_normalized_100_epoch, alpha=0.6, label='MSE values')\n",
    "plt.axhline(y=mean_mse_normalized_100, color='red', linestyle='--', label='Mean')\n",
    "plt.axhline(y=mean_mse_normalized_100 + std_mse_normalized_100, color='green', linestyle='-.', label='Mean + Std')\n",
    "plt.axhline(y=mean_mse_normalized_100 - std_mse_normalized_100, color='purple', linestyle='-.', label='Mean - Std')\n",
    "plt.xlabel('Iteration')\n",
    "plt.ylabel('Mean Squared Error')\n",
    "plt.title('MSE Values {100 epochs} (Linear Scale)')\n",
    "plt.legend()\n",
    "plt.grid(True, alpha=0.3)\n",
    "plt.ylim(y_min, y_max)  # Set y-axis limits\n",
    "\n",
    "# Unnormalized data plot\n",
    "plt.subplot(1, 2, 2)\n",
    "plt.scatter(x_values, df_mse_normalized['mse'], alpha=0.6, label='MSE values')\n",
    "plt.axhline(y=mean_mse_normalized, color='red', linestyle='--', label='Mean')\n",
    "plt.axhline(y=mean_mse_normalized + std_mse_normalized, color='green', linestyle='-.', label='Mean + Std')\n",
    "plt.axhline(y=mean_mse_normalized - std_mse_normalized, color='purple', linestyle='-.', label='Mean - Std')\n",
    "plt.xlabel('Iteration')\n",
    "plt.ylabel('Mean Squared Error')\n",
    "plt.title('MSE Values {50 epochs} (Linear Scale)')\n",
    "plt.legend()\n",
    "plt.grid(True, alpha=0.3)\n",
    "plt.ylim(y_min, y_max)  # Set y-axis limits\n",
    "\n",
    "plt.tight_layout()"
   ]
  },
  {
   "cell_type": "markdown",
   "id": "a20f140b-3efd-4884-b86a-45aa51a54547",
   "metadata": {},
   "source": [
    "### Result"
   ]
  },
  {
   "cell_type": "markdown",
   "id": "476f39c1-c8ea-4691-8803-b9bec77f2fbd",
   "metadata": {},
   "source": [
    "In the Section B, the normalized data with 50 epochs showed lower variability in MSE  with std = 94.15 and the mean MSE was 347.99. There were a few spikes (>500) (above scatter plot on the right). And the model stability looked descent.\n",
    "\n",
    "After changing 50 epochs to 100 epochs (above scatter plot on the left):\n",
    "- **`Even Lower variability in MSE (std = 9.59)`**\n",
    "- **`Mean MSE of 154.67`**\n",
    "- Less extreme sprikes (>165)\n",
    "- **`Much Better model stability`**.\n",
    "\n",
    "<div class=\"alert alert-success\">\n",
    " Increasing the epochs from 50 epochs indicates more stabilized model's performance.\n",
    "</div>\n",
    "\n",
    "\n",
    "\n",
    "\n"
   ]
  },
  {
   "cell_type": "code",
   "execution_count": null,
   "id": "6a0009aa-78dc-4c3e-af26-eb72e5a4d1ab",
   "metadata": {},
   "outputs": [],
   "source": []
  }
 ],
 "metadata": {
  "kernelspec": {
   "display_name": "Python [conda env:nlp]",
   "language": "python",
   "name": "conda-env-nlp-py"
  },
  "language_info": {
   "codemirror_mode": {
    "name": "ipython",
    "version": 3
   },
   "file_extension": ".py",
   "mimetype": "text/x-python",
   "name": "python",
   "nbconvert_exporter": "python",
   "pygments_lexer": "ipython3",
   "version": "3.11.9"
  }
 },
 "nbformat": 4,
 "nbformat_minor": 5
}
