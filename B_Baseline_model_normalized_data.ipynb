{
 "cells": [
  {
   "cell_type": "markdown",
   "id": "68acb8a5-33d6-4265-80ea-75ad42844238",
   "metadata": {},
   "source": [
    "# Building a Regression Model in Keras"
   ]
  },
  {
   "cell_type": "markdown",
   "id": "0c046adb-44a7-4676-97b8-73cda544c005",
   "metadata": {},
   "source": [
    "## B. Normalize the data  "
   ]
  },
  {
   "cell_type": "markdown",
   "id": "58d10f87-b132-4477-a0a0-38cdba15c501",
   "metadata": {},
   "source": [
    "Repeat Part A **but use a normalized version of the data**. Recall that one way to normalize the data is by subtracting the mean from the individual predictors and dividing by the standard deviation.\n",
    "\n",
    "**How does the mean of the mean squared errors compare to that from Step A?**\n",
    "\n",
    "As a reminder this was in the Part A:\n",
    "\n",
    ">Use the Keras library to build a neural network with the following:\n",
    "\n",
    ">- One hidden layer of 10 nodes, and a ReLU activation function\n",
    "\n",
    ">- Use the adam optimizer and the mean squared error as the loss function.\n",
    "\n",
    ">1. Randomly split the data into a training and test sets by holding 30% of the data for testing. You can use the train_test_split helper function from Scikit-learn.\n",
    "\n",
    ">2. Train the model on the training data using 50 epochs.\n",
    "\n",
    ">3. Evaluate the model on the test data and compute the mean squared error between the predicted concrete strength and the actual concrete strength. You can use the mean_squared_error function from Scikit-learn.\n",
    "\n",
    ">4. Repeat steps 1 - 3, 50 times, i.e., create a list of 50 mean squared errors.\n",
    "\n",
    ">5. Report the mean and the standard deviation of the mean squared errors."
   ]
  },
  {
   "cell_type": "markdown",
   "id": "6e63230e-9d41-45ea-861d-dd1485c77a35",
   "metadata": {},
   "source": [
    "### Import libraries that are required for the solution"
   ]
  },
  {
   "cell_type": "code",
   "execution_count": 26,
   "id": "0a435b55-04ce-4620-b836-b81a837c1d2d",
   "metadata": {},
   "outputs": [
    {
     "name": "stderr",
     "output_type": "stream",
     "text": [
      "2025-02-27 10:29:50.764506: I tensorflow/core/platform/cpu_feature_guard.cc:210] This TensorFlow binary is optimized to use available CPU instructions in performance-critical operations.\n",
      "To enable the following instructions: SSE4.1 SSE4.2 AVX AVX2 FMA, in other operations, rebuild TensorFlow with the appropriate compiler flags.\n"
     ]
    }
   ],
   "source": [
    "import keras\n",
    "import pandas as pd\n",
    "import numpy as np\n",
    "\n",
    "# for building neural network\n",
    "from keras.models import Sequential\n",
    "from keras.layers import Dense\n",
    "from keras.layers import Input\n",
    "\n",
    "# for splitting data using scikit-learn library\n",
    "from sklearn.model_selection import train_test_split\n",
    "\n",
    "# for evaluating the model with mean squared error function from scikit-learn\n",
    "from sklearn.metrics import mean_squared_error\n",
    "\n",
    "# for visualizing the mean squared errors with statistics\n",
    "import matplotlib.pyplot as plt\n",
    "\n",
    "import warnings"
   ]
  },
  {
   "cell_type": "markdown",
   "id": "66ae1122-5f15-48a9-8a3c-35b577760fd0",
   "metadata": {},
   "source": [
    "### Read the data"
   ]
  },
  {
   "cell_type": "code",
   "execution_count": 30,
   "id": "17f9dbcd-bc51-4652-9987-dcfda43c0eeb",
   "metadata": {},
   "outputs": [
    {
     "data": {
      "text/html": [
       "<div>\n",
       "<style scoped>\n",
       "    .dataframe tbody tr th:only-of-type {\n",
       "        vertical-align: middle;\n",
       "    }\n",
       "\n",
       "    .dataframe tbody tr th {\n",
       "        vertical-align: top;\n",
       "    }\n",
       "\n",
       "    .dataframe thead th {\n",
       "        text-align: right;\n",
       "    }\n",
       "</style>\n",
       "<table border=\"1\" class=\"dataframe\">\n",
       "  <thead>\n",
       "    <tr style=\"text-align: right;\">\n",
       "      <th></th>\n",
       "      <th>Cement</th>\n",
       "      <th>Blast Furnace Slag</th>\n",
       "      <th>Fly Ash</th>\n",
       "      <th>Water</th>\n",
       "      <th>Superplasticizer</th>\n",
       "      <th>Coarse Aggregate</th>\n",
       "      <th>Fine Aggregate</th>\n",
       "      <th>Age</th>\n",
       "      <th>Strength</th>\n",
       "    </tr>\n",
       "  </thead>\n",
       "  <tbody>\n",
       "    <tr>\n",
       "      <th>0</th>\n",
       "      <td>540.0</td>\n",
       "      <td>0.0</td>\n",
       "      <td>0.0</td>\n",
       "      <td>162.0</td>\n",
       "      <td>2.5</td>\n",
       "      <td>1040.0</td>\n",
       "      <td>676.0</td>\n",
       "      <td>28</td>\n",
       "      <td>79.99</td>\n",
       "    </tr>\n",
       "    <tr>\n",
       "      <th>1</th>\n",
       "      <td>540.0</td>\n",
       "      <td>0.0</td>\n",
       "      <td>0.0</td>\n",
       "      <td>162.0</td>\n",
       "      <td>2.5</td>\n",
       "      <td>1055.0</td>\n",
       "      <td>676.0</td>\n",
       "      <td>28</td>\n",
       "      <td>61.89</td>\n",
       "    </tr>\n",
       "    <tr>\n",
       "      <th>2</th>\n",
       "      <td>332.5</td>\n",
       "      <td>142.5</td>\n",
       "      <td>0.0</td>\n",
       "      <td>228.0</td>\n",
       "      <td>0.0</td>\n",
       "      <td>932.0</td>\n",
       "      <td>594.0</td>\n",
       "      <td>270</td>\n",
       "      <td>40.27</td>\n",
       "    </tr>\n",
       "    <tr>\n",
       "      <th>3</th>\n",
       "      <td>332.5</td>\n",
       "      <td>142.5</td>\n",
       "      <td>0.0</td>\n",
       "      <td>228.0</td>\n",
       "      <td>0.0</td>\n",
       "      <td>932.0</td>\n",
       "      <td>594.0</td>\n",
       "      <td>365</td>\n",
       "      <td>41.05</td>\n",
       "    </tr>\n",
       "    <tr>\n",
       "      <th>4</th>\n",
       "      <td>198.6</td>\n",
       "      <td>132.4</td>\n",
       "      <td>0.0</td>\n",
       "      <td>192.0</td>\n",
       "      <td>0.0</td>\n",
       "      <td>978.4</td>\n",
       "      <td>825.5</td>\n",
       "      <td>360</td>\n",
       "      <td>44.30</td>\n",
       "    </tr>\n",
       "  </tbody>\n",
       "</table>\n",
       "</div>"
      ],
      "text/plain": [
       "   Cement  Blast Furnace Slag  Fly Ash  Water  Superplasticizer  \\\n",
       "0   540.0                 0.0      0.0  162.0               2.5   \n",
       "1   540.0                 0.0      0.0  162.0               2.5   \n",
       "2   332.5               142.5      0.0  228.0               0.0   \n",
       "3   332.5               142.5      0.0  228.0               0.0   \n",
       "4   198.6               132.4      0.0  192.0               0.0   \n",
       "\n",
       "   Coarse Aggregate  Fine Aggregate  Age  Strength  \n",
       "0            1040.0           676.0   28     79.99  \n",
       "1            1055.0           676.0   28     61.89  \n",
       "2             932.0           594.0  270     40.27  \n",
       "3             932.0           594.0  365     41.05  \n",
       "4             978.4           825.5  360     44.30  "
      ]
     },
     "execution_count": 30,
     "metadata": {},
     "output_type": "execute_result"
    }
   ],
   "source": [
    "filepath = 'https://s3-api.us-geo.objectstorage.softlayer.net/cf-courses-data/CognitiveClass/DL0101EN/labs/data/concrete_data.csv'\n",
    "concrete_data = pd.read_csv(filepath)\n",
    "concrete_data.head()"
   ]
  },
  {
   "cell_type": "markdown",
   "id": "da255f4d-7f52-4000-8114-8f7367c6daa6",
   "metadata": {},
   "source": [
    "#### Split data into predictors and target"
   ]
  },
  {
   "cell_type": "code",
   "execution_count": 38,
   "id": "a3420c6c-8f2b-456c-9fd0-cffb03c027d3",
   "metadata": {},
   "outputs": [],
   "source": [
    "concrete_data_columns = concrete_data.columns\n",
    "\n",
    "predictors = concrete_data[concrete_data_columns[concrete_data_columns != 'Strength']]\n",
    "target = concrete_data['Strength']"
   ]
  },
  {
   "cell_type": "code",
   "execution_count": 88,
   "id": "f76a4edf-0638-4bc9-a814-fe7aa4a4efa2",
   "metadata": {},
   "outputs": [],
   "source": [
    "n_cols = predictors.shape[1]"
   ]
  },
  {
   "cell_type": "markdown",
   "id": "995cb0eb-7bb5-4f57-9746-f2b9f73f6677",
   "metadata": {},
   "source": [
    "### B. Normalize the data"
   ]
  },
  {
   "cell_type": "code",
   "execution_count": 44,
   "id": "33c6e621-9d8d-4b0c-81d6-bbaf006d3983",
   "metadata": {},
   "outputs": [
    {
     "data": {
      "text/html": [
       "<div>\n",
       "<style scoped>\n",
       "    .dataframe tbody tr th:only-of-type {\n",
       "        vertical-align: middle;\n",
       "    }\n",
       "\n",
       "    .dataframe tbody tr th {\n",
       "        vertical-align: top;\n",
       "    }\n",
       "\n",
       "    .dataframe thead th {\n",
       "        text-align: right;\n",
       "    }\n",
       "</style>\n",
       "<table border=\"1\" class=\"dataframe\">\n",
       "  <thead>\n",
       "    <tr style=\"text-align: right;\">\n",
       "      <th></th>\n",
       "      <th>Cement</th>\n",
       "      <th>Blast Furnace Slag</th>\n",
       "      <th>Fly Ash</th>\n",
       "      <th>Water</th>\n",
       "      <th>Superplasticizer</th>\n",
       "      <th>Coarse Aggregate</th>\n",
       "      <th>Fine Aggregate</th>\n",
       "      <th>Age</th>\n",
       "    </tr>\n",
       "  </thead>\n",
       "  <tbody>\n",
       "    <tr>\n",
       "      <th>0</th>\n",
       "      <td>2.476712</td>\n",
       "      <td>-0.856472</td>\n",
       "      <td>-0.846733</td>\n",
       "      <td>-0.916319</td>\n",
       "      <td>-0.620147</td>\n",
       "      <td>0.862735</td>\n",
       "      <td>-1.217079</td>\n",
       "      <td>-0.279597</td>\n",
       "    </tr>\n",
       "    <tr>\n",
       "      <th>1</th>\n",
       "      <td>2.476712</td>\n",
       "      <td>-0.856472</td>\n",
       "      <td>-0.846733</td>\n",
       "      <td>-0.916319</td>\n",
       "      <td>-0.620147</td>\n",
       "      <td>1.055651</td>\n",
       "      <td>-1.217079</td>\n",
       "      <td>-0.279597</td>\n",
       "    </tr>\n",
       "    <tr>\n",
       "      <th>2</th>\n",
       "      <td>0.491187</td>\n",
       "      <td>0.795140</td>\n",
       "      <td>-0.846733</td>\n",
       "      <td>2.174405</td>\n",
       "      <td>-1.038638</td>\n",
       "      <td>-0.526262</td>\n",
       "      <td>-2.239829</td>\n",
       "      <td>3.551340</td>\n",
       "    </tr>\n",
       "    <tr>\n",
       "      <th>3</th>\n",
       "      <td>0.491187</td>\n",
       "      <td>0.795140</td>\n",
       "      <td>-0.846733</td>\n",
       "      <td>2.174405</td>\n",
       "      <td>-1.038638</td>\n",
       "      <td>-0.526262</td>\n",
       "      <td>-2.239829</td>\n",
       "      <td>5.055221</td>\n",
       "    </tr>\n",
       "    <tr>\n",
       "      <th>4</th>\n",
       "      <td>-0.790075</td>\n",
       "      <td>0.678079</td>\n",
       "      <td>-0.846733</td>\n",
       "      <td>0.488555</td>\n",
       "      <td>-1.038638</td>\n",
       "      <td>0.070492</td>\n",
       "      <td>0.647569</td>\n",
       "      <td>4.976069</td>\n",
       "    </tr>\n",
       "  </tbody>\n",
       "</table>\n",
       "</div>"
      ],
      "text/plain": [
       "     Cement  Blast Furnace Slag   Fly Ash     Water  Superplasticizer  \\\n",
       "0  2.476712           -0.856472 -0.846733 -0.916319         -0.620147   \n",
       "1  2.476712           -0.856472 -0.846733 -0.916319         -0.620147   \n",
       "2  0.491187            0.795140 -0.846733  2.174405         -1.038638   \n",
       "3  0.491187            0.795140 -0.846733  2.174405         -1.038638   \n",
       "4 -0.790075            0.678079 -0.846733  0.488555         -1.038638   \n",
       "\n",
       "   Coarse Aggregate  Fine Aggregate       Age  \n",
       "0          0.862735       -1.217079 -0.279597  \n",
       "1          1.055651       -1.217079 -0.279597  \n",
       "2         -0.526262       -2.239829  3.551340  \n",
       "3         -0.526262       -2.239829  5.055221  \n",
       "4          0.070492        0.647569  4.976069  "
      ]
     },
     "execution_count": 44,
     "metadata": {},
     "output_type": "execute_result"
    }
   ],
   "source": [
    "predictors_normalized = (predictors - predictors.mean())/ predictors.std()\n",
    "predictors_normalized.head()"
   ]
  },
  {
   "cell_type": "markdown",
   "id": "3bb89b38-cb27-46e3-b771-3e8eaeb7c9f7",
   "metadata": {},
   "source": [
    "#### Build Neural Network"
   ]
  },
  {
   "cell_type": "markdown",
   "id": "ec26eeb1-0128-4185-ac13-635cbe75cae0",
   "metadata": {},
   "source": [
    "Defining a function that defines our regression model for us so that we can conveniently call it to create our model. "
   ]
  },
  {
   "cell_type": "code",
   "execution_count": 66,
   "id": "59bead0a-dc8b-45e3-867e-a3d260c564f4",
   "metadata": {},
   "outputs": [],
   "source": [
    "def regression_model():\n",
    "    # Create a model with 10 hidden layers, ReLU activation function,\n",
    "    #   use adam optimizer, and the mean squared error as loss function\n",
    "    model = Sequential()\n",
    "    model.add(Input(shape=(n_cols,)))\n",
    "    model.add(Dense(10, activation='relu'))\n",
    "    model.add(Dense(1))\n",
    "\n",
    "    # compile model\n",
    "    model.compile(optimizer='adam', loss='mean_squared_error')\n",
    "\n",
    "    return model"
   ]
  },
  {
   "cell_type": "markdown",
   "id": "21c732d0-3272-47c1-8908-ee54300ed371",
   "metadata": {},
   "source": [
    "### 1. Split the data to training and testing"
   ]
  },
  {
   "cell_type": "markdown",
   "id": "dd6c11a2-c716-4b20-99a6-5bcc4962932e",
   "metadata": {},
   "source": [
    "Randomly splitting the data into a training and test sets by holding 30% of the data for testing using **train_test_split** function from the scikit-learn module.\n",
    "\n",
    "<div class=\"alert alert-info\"> \n",
    "\n",
    "  **Note:** We will be using the normalized data\n",
    "\n",
    "</div> "
   ]
  },
  {
   "cell_type": "code",
   "execution_count": 76,
   "id": "a96d43fa-56e7-45f3-83cb-ce44ee2382c5",
   "metadata": {},
   "outputs": [],
   "source": [
    "X_train, X_test, y_train, y_test = train_test_split(predictors_normalized,target,test_size=0.3,random_state=42)"
   ]
  },
  {
   "cell_type": "markdown",
   "id": "7807796e-cc80-44be-8463-016139e677b7",
   "metadata": {},
   "source": [
    "### 2. Train the model"
   ]
  },
  {
   "cell_type": "markdown",
   "id": "4e00f6bb-26e9-4aa3-a3ec-c514e077b4c0",
   "metadata": {},
   "source": [
    "Train the model on the training data using **50 epochs**."
   ]
  },
  {
   "cell_type": "code",
   "execution_count": 90,
   "id": "263a784d-0838-416e-b44e-e86b3d95e09a",
   "metadata": {},
   "outputs": [
    {
     "name": "stdout",
     "output_type": "stream",
     "text": [
      "Epoch 1/50\n",
      "23/23 - 1s - 25ms/step - loss: 1544.4882\n",
      "Epoch 2/50\n",
      "23/23 - 0s - 3ms/step - loss: 1529.4790\n",
      "Epoch 3/50\n",
      "23/23 - 0s - 3ms/step - loss: 1513.8710\n",
      "Epoch 4/50\n",
      "23/23 - 0s - 2ms/step - loss: 1497.2161\n",
      "Epoch 5/50\n",
      "23/23 - 0s - 2ms/step - loss: 1479.1143\n",
      "Epoch 6/50\n",
      "23/23 - 0s - 2ms/step - loss: 1459.8630\n",
      "Epoch 7/50\n",
      "23/23 - 0s - 2ms/step - loss: 1438.7537\n",
      "Epoch 8/50\n",
      "23/23 - 0s - 2ms/step - loss: 1416.4127\n",
      "Epoch 9/50\n",
      "23/23 - 0s - 2ms/step - loss: 1392.0924\n",
      "Epoch 10/50\n",
      "23/23 - 0s - 2ms/step - loss: 1366.6010\n",
      "Epoch 11/50\n",
      "23/23 - 0s - 2ms/step - loss: 1339.4696\n",
      "Epoch 12/50\n",
      "23/23 - 0s - 2ms/step - loss: 1310.7125\n",
      "Epoch 13/50\n",
      "23/23 - 0s - 2ms/step - loss: 1280.9518\n",
      "Epoch 14/50\n",
      "23/23 - 0s - 2ms/step - loss: 1249.3782\n",
      "Epoch 15/50\n",
      "23/23 - 0s - 2ms/step - loss: 1217.1370\n",
      "Epoch 16/50\n",
      "23/23 - 0s - 2ms/step - loss: 1182.6451\n",
      "Epoch 17/50\n",
      "23/23 - 0s - 2ms/step - loss: 1147.6115\n",
      "Epoch 18/50\n",
      "23/23 - 0s - 3ms/step - loss: 1110.8342\n",
      "Epoch 19/50\n",
      "23/23 - 0s - 2ms/step - loss: 1072.7842\n",
      "Epoch 20/50\n",
      "23/23 - 0s - 2ms/step - loss: 1034.2642\n",
      "Epoch 21/50\n",
      "23/23 - 0s - 2ms/step - loss: 994.8886\n",
      "Epoch 22/50\n",
      "23/23 - 0s - 2ms/step - loss: 954.8564\n",
      "Epoch 23/50\n",
      "23/23 - 0s - 3ms/step - loss: 915.1299\n",
      "Epoch 24/50\n",
      "23/23 - 0s - 3ms/step - loss: 875.2072\n",
      "Epoch 25/50\n",
      "23/23 - 0s - 3ms/step - loss: 835.5648\n",
      "Epoch 26/50\n",
      "23/23 - 0s - 3ms/step - loss: 796.1556\n",
      "Epoch 27/50\n",
      "23/23 - 0s - 3ms/step - loss: 757.6557\n",
      "Epoch 28/50\n",
      "23/23 - 0s - 3ms/step - loss: 720.2563\n",
      "Epoch 29/50\n",
      "23/23 - 0s - 3ms/step - loss: 682.9540\n",
      "Epoch 30/50\n",
      "23/23 - 0s - 3ms/step - loss: 647.8964\n",
      "Epoch 31/50\n",
      "23/23 - 0s - 3ms/step - loss: 613.0817\n",
      "Epoch 32/50\n",
      "23/23 - 0s - 3ms/step - loss: 579.9827\n",
      "Epoch 33/50\n",
      "23/23 - 0s - 3ms/step - loss: 548.5266\n",
      "Epoch 34/50\n",
      "23/23 - 0s - 3ms/step - loss: 518.7784\n",
      "Epoch 35/50\n",
      "23/23 - 0s - 3ms/step - loss: 489.9840\n",
      "Epoch 36/50\n",
      "23/23 - 0s - 3ms/step - loss: 463.4275\n",
      "Epoch 37/50\n",
      "23/23 - 0s - 3ms/step - loss: 438.0262\n",
      "Epoch 38/50\n",
      "23/23 - 0s - 3ms/step - loss: 414.4325\n",
      "Epoch 39/50\n",
      "23/23 - 0s - 3ms/step - loss: 392.2282\n",
      "Epoch 40/50\n",
      "23/23 - 0s - 3ms/step - loss: 372.0778\n",
      "Epoch 41/50\n",
      "23/23 - 0s - 3ms/step - loss: 353.4370\n",
      "Epoch 42/50\n",
      "23/23 - 0s - 3ms/step - loss: 336.1914\n",
      "Epoch 43/50\n",
      "23/23 - 0s - 3ms/step - loss: 320.0639\n",
      "Epoch 44/50\n",
      "23/23 - 0s - 3ms/step - loss: 305.7891\n",
      "Epoch 45/50\n",
      "23/23 - 0s - 3ms/step - loss: 292.6133\n",
      "Epoch 46/50\n",
      "23/23 - 0s - 3ms/step - loss: 280.6163\n",
      "Epoch 47/50\n",
      "23/23 - 0s - 3ms/step - loss: 269.7317\n",
      "Epoch 48/50\n",
      "23/23 - 0s - 3ms/step - loss: 259.7079\n",
      "Epoch 49/50\n",
      "23/23 - 0s - 3ms/step - loss: 250.7946\n",
      "Epoch 50/50\n",
      "23/23 - 0s - 3ms/step - loss: 242.8349\n"
     ]
    },
    {
     "data": {
      "text/plain": [
       "<keras.src.callbacks.history.History at 0x13afe4650>"
      ]
     },
     "execution_count": 90,
     "metadata": {},
     "output_type": "execute_result"
    }
   ],
   "source": [
    "# build the model\n",
    "model = regression_model()\n",
    "model.fit(X_train, y_train, epochs=50, verbose=2)"
   ]
  },
  {
   "cell_type": "markdown",
   "id": "ada07b07-8c2c-4223-b9fc-f55c3d24a9ac",
   "metadata": {},
   "source": [
    "### 3. Evaluate the Model on the test data"
   ]
  },
  {
   "cell_type": "markdown",
   "id": "485ac393-71e7-4f36-8884-3f37818ebf70",
   "metadata": {},
   "source": [
    " Evaluating the model on the test data "
   ]
  },
  {
   "cell_type": "code",
   "execution_count": 100,
   "id": "d77f3f3e-8aba-4792-a147-19fb204e9129",
   "metadata": {},
   "outputs": [
    {
     "name": "stdout",
     "output_type": "stream",
     "text": [
      "\u001b[1m10/10\u001b[0m \u001b[32m━━━━━━━━━━━━━━━━━━━━\u001b[0m\u001b[37m\u001b[0m \u001b[1m0s\u001b[0m 6ms/step \n"
     ]
    }
   ],
   "source": [
    "# Prediction\n",
    "predictions = model.predict(X_test)"
   ]
  },
  {
   "cell_type": "markdown",
   "id": "cb6fa61e-a181-4afb-bbd9-ec644d704ade",
   "metadata": {},
   "source": [
    "computing the mean squared error between the predicted concrete strength and the actual concrete strength using mean_squared_error function from Scikit-learn."
   ]
  },
  {
   "cell_type": "code",
   "execution_count": 105,
   "id": "af7725df-a8bb-4fed-816d-f8252ccad8cb",
   "metadata": {},
   "outputs": [
    {
     "name": "stdout",
     "output_type": "stream",
     "text": [
      "Mean Squared Error after testing the model: 235.76182409397398\n"
     ]
    }
   ],
   "source": [
    "mse = mean_squared_error(y_test, predictions)\n",
    "print(f\"Mean Squared Error after testing the model: {mse}\")"
   ]
  },
  {
   "cell_type": "markdown",
   "id": "c73c8b44-af5c-4c1a-a626-72bd71b6d713",
   "metadata": {},
   "source": [
    "### 4. Repeating the steps 1-3, 50 times"
   ]
  },
  {
   "cell_type": "code",
   "execution_count": 110,
   "id": "52720043-f659-42f3-86b4-f9daeb005bab",
   "metadata": {},
   "outputs": [
    {
     "name": "stdout",
     "output_type": "stream",
     "text": [
      "Step # 0\n",
      "\u001b[1m10/10\u001b[0m \u001b[32m━━━━━━━━━━━━━━━━━━━━\u001b[0m\u001b[37m\u001b[0m \u001b[1m0s\u001b[0m 5ms/step \n",
      "Step # 1\n",
      "\u001b[1m10/10\u001b[0m \u001b[32m━━━━━━━━━━━━━━━━━━━━\u001b[0m\u001b[37m\u001b[0m \u001b[1m0s\u001b[0m 5ms/step \n",
      "Step # 2\n",
      "\u001b[1m10/10\u001b[0m \u001b[32m━━━━━━━━━━━━━━━━━━━━\u001b[0m\u001b[37m\u001b[0m \u001b[1m0s\u001b[0m 4ms/step \n",
      "Step # 3\n",
      "\u001b[1m10/10\u001b[0m \u001b[32m━━━━━━━━━━━━━━━━━━━━\u001b[0m\u001b[37m\u001b[0m \u001b[1m0s\u001b[0m 5ms/step \n",
      "Step # 4\n",
      "\u001b[1m10/10\u001b[0m \u001b[32m━━━━━━━━━━━━━━━━━━━━\u001b[0m\u001b[37m\u001b[0m \u001b[1m0s\u001b[0m 11ms/step\n",
      "Step # 5\n",
      "\u001b[1m10/10\u001b[0m \u001b[32m━━━━━━━━━━━━━━━━━━━━\u001b[0m\u001b[37m\u001b[0m \u001b[1m0s\u001b[0m 4ms/step \n",
      "Step # 6\n",
      "\u001b[1m10/10\u001b[0m \u001b[32m━━━━━━━━━━━━━━━━━━━━\u001b[0m\u001b[37m\u001b[0m \u001b[1m0s\u001b[0m 4ms/step \n",
      "Step # 7\n",
      "\u001b[1m10/10\u001b[0m \u001b[32m━━━━━━━━━━━━━━━━━━━━\u001b[0m\u001b[37m\u001b[0m \u001b[1m0s\u001b[0m 4ms/step \n",
      "Step # 8\n",
      "\u001b[1m10/10\u001b[0m \u001b[32m━━━━━━━━━━━━━━━━━━━━\u001b[0m\u001b[37m\u001b[0m \u001b[1m0s\u001b[0m 4ms/step \n",
      "Step # 9\n",
      "\u001b[1m10/10\u001b[0m \u001b[32m━━━━━━━━━━━━━━━━━━━━\u001b[0m\u001b[37m\u001b[0m \u001b[1m0s\u001b[0m 12ms/step \n",
      "Step # 10\n",
      "\u001b[1m10/10\u001b[0m \u001b[32m━━━━━━━━━━━━━━━━━━━━\u001b[0m\u001b[37m\u001b[0m \u001b[1m0s\u001b[0m 5ms/step \n",
      "Step # 11\n",
      "\u001b[1m10/10\u001b[0m \u001b[32m━━━━━━━━━━━━━━━━━━━━\u001b[0m\u001b[37m\u001b[0m \u001b[1m0s\u001b[0m 6ms/step \n",
      "Step # 12\n",
      "\u001b[1m10/10\u001b[0m \u001b[32m━━━━━━━━━━━━━━━━━━━━\u001b[0m\u001b[37m\u001b[0m \u001b[1m0s\u001b[0m 4ms/step \n",
      "Step # 13\n",
      "\u001b[1m10/10\u001b[0m \u001b[32m━━━━━━━━━━━━━━━━━━━━\u001b[0m\u001b[37m\u001b[0m \u001b[1m0s\u001b[0m 4ms/step \n",
      "Step # 14\n",
      "\u001b[1m10/10\u001b[0m \u001b[32m━━━━━━━━━━━━━━━━━━━━\u001b[0m\u001b[37m\u001b[0m \u001b[1m0s\u001b[0m 5ms/step \n",
      "Step # 15\n",
      "\u001b[1m10/10\u001b[0m \u001b[32m━━━━━━━━━━━━━━━━━━━━\u001b[0m\u001b[37m\u001b[0m \u001b[1m0s\u001b[0m 4ms/step \n",
      "Step # 16\n",
      "\u001b[1m10/10\u001b[0m \u001b[32m━━━━━━━━━━━━━━━━━━━━\u001b[0m\u001b[37m\u001b[0m \u001b[1m0s\u001b[0m 4ms/step \n",
      "Step # 17\n",
      "\u001b[1m10/10\u001b[0m \u001b[32m━━━━━━━━━━━━━━━━━━━━\u001b[0m\u001b[37m\u001b[0m \u001b[1m0s\u001b[0m 4ms/step \n",
      "Step # 18\n",
      "\u001b[1m10/10\u001b[0m \u001b[32m━━━━━━━━━━━━━━━━━━━━\u001b[0m\u001b[37m\u001b[0m \u001b[1m0s\u001b[0m 5ms/step \n",
      "Step # 19\n",
      "\u001b[1m10/10\u001b[0m \u001b[32m━━━━━━━━━━━━━━━━━━━━\u001b[0m\u001b[37m\u001b[0m \u001b[1m0s\u001b[0m 4ms/step \n",
      "Step # 20\n",
      "\u001b[1m10/10\u001b[0m \u001b[32m━━━━━━━━━━━━━━━━━━━━\u001b[0m\u001b[37m\u001b[0m \u001b[1m0s\u001b[0m 4ms/step \n",
      "Step # 21\n",
      "\u001b[1m10/10\u001b[0m \u001b[32m━━━━━━━━━━━━━━━━━━━━\u001b[0m\u001b[37m\u001b[0m \u001b[1m0s\u001b[0m 5ms/step \n",
      "Step # 22\n",
      "\u001b[1m10/10\u001b[0m \u001b[32m━━━━━━━━━━━━━━━━━━━━\u001b[0m\u001b[37m\u001b[0m \u001b[1m0s\u001b[0m 5ms/step \n",
      "Step # 23\n",
      "\u001b[1m10/10\u001b[0m \u001b[32m━━━━━━━━━━━━━━━━━━━━\u001b[0m\u001b[37m\u001b[0m \u001b[1m0s\u001b[0m 4ms/step \n",
      "Step # 24\n",
      "\u001b[1m10/10\u001b[0m \u001b[32m━━━━━━━━━━━━━━━━━━━━\u001b[0m\u001b[37m\u001b[0m \u001b[1m0s\u001b[0m 6ms/step \n",
      "Step # 25\n",
      "\u001b[1m10/10\u001b[0m \u001b[32m━━━━━━━━━━━━━━━━━━━━\u001b[0m\u001b[37m\u001b[0m \u001b[1m0s\u001b[0m 5ms/step \n",
      "Step # 26\n",
      "\u001b[1m10/10\u001b[0m \u001b[32m━━━━━━━━━━━━━━━━━━━━\u001b[0m\u001b[37m\u001b[0m \u001b[1m0s\u001b[0m 4ms/step \n",
      "Step # 27\n",
      "\u001b[1m10/10\u001b[0m \u001b[32m━━━━━━━━━━━━━━━━━━━━\u001b[0m\u001b[37m\u001b[0m \u001b[1m0s\u001b[0m 4ms/step \n",
      "Step # 28\n",
      "\u001b[1m10/10\u001b[0m \u001b[32m━━━━━━━━━━━━━━━━━━━━\u001b[0m\u001b[37m\u001b[0m \u001b[1m0s\u001b[0m 4ms/step \n",
      "Step # 29\n",
      "\u001b[1m10/10\u001b[0m \u001b[32m━━━━━━━━━━━━━━━━━━━━\u001b[0m\u001b[37m\u001b[0m \u001b[1m0s\u001b[0m 5ms/step \n",
      "Step # 30\n",
      "\u001b[1m10/10\u001b[0m \u001b[32m━━━━━━━━━━━━━━━━━━━━\u001b[0m\u001b[37m\u001b[0m \u001b[1m0s\u001b[0m 4ms/step \n",
      "Step # 31\n",
      "\u001b[1m10/10\u001b[0m \u001b[32m━━━━━━━━━━━━━━━━━━━━\u001b[0m\u001b[37m\u001b[0m \u001b[1m0s\u001b[0m 5ms/step \n",
      "Step # 32\n",
      "\u001b[1m10/10\u001b[0m \u001b[32m━━━━━━━━━━━━━━━━━━━━\u001b[0m\u001b[37m\u001b[0m \u001b[1m0s\u001b[0m 4ms/step \n",
      "Step # 33\n",
      "\u001b[1m10/10\u001b[0m \u001b[32m━━━━━━━━━━━━━━━━━━━━\u001b[0m\u001b[37m\u001b[0m \u001b[1m0s\u001b[0m 5ms/step \n",
      "Step # 34\n",
      "\u001b[1m10/10\u001b[0m \u001b[32m━━━━━━━━━━━━━━━━━━━━\u001b[0m\u001b[37m\u001b[0m \u001b[1m0s\u001b[0m 4ms/step \n",
      "Step # 35\n",
      "\u001b[1m10/10\u001b[0m \u001b[32m━━━━━━━━━━━━━━━━━━━━\u001b[0m\u001b[37m\u001b[0m \u001b[1m0s\u001b[0m 4ms/step \n",
      "Step # 36\n",
      "\u001b[1m10/10\u001b[0m \u001b[32m━━━━━━━━━━━━━━━━━━━━\u001b[0m\u001b[37m\u001b[0m \u001b[1m0s\u001b[0m 4ms/step \n",
      "Step # 37\n",
      "\u001b[1m10/10\u001b[0m \u001b[32m━━━━━━━━━━━━━━━━━━━━\u001b[0m\u001b[37m\u001b[0m \u001b[1m0s\u001b[0m 6ms/step \n",
      "Step # 38\n",
      "\u001b[1m10/10\u001b[0m \u001b[32m━━━━━━━━━━━━━━━━━━━━\u001b[0m\u001b[37m\u001b[0m \u001b[1m0s\u001b[0m 5ms/step \n",
      "Step # 39\n",
      "\u001b[1m10/10\u001b[0m \u001b[32m━━━━━━━━━━━━━━━━━━━━\u001b[0m\u001b[37m\u001b[0m \u001b[1m0s\u001b[0m 5ms/step \n",
      "Step # 40\n",
      "\u001b[1m10/10\u001b[0m \u001b[32m━━━━━━━━━━━━━━━━━━━━\u001b[0m\u001b[37m\u001b[0m \u001b[1m0s\u001b[0m 4ms/step \n",
      "Step # 41\n",
      "\u001b[1m10/10\u001b[0m \u001b[32m━━━━━━━━━━━━━━━━━━━━\u001b[0m\u001b[37m\u001b[0m \u001b[1m0s\u001b[0m 5ms/step \n",
      "Step # 42\n",
      "\u001b[1m10/10\u001b[0m \u001b[32m━━━━━━━━━━━━━━━━━━━━\u001b[0m\u001b[37m\u001b[0m \u001b[1m0s\u001b[0m 10ms/step\n",
      "Step # 43\n",
      "\u001b[1m10/10\u001b[0m \u001b[32m━━━━━━━━━━━━━━━━━━━━\u001b[0m\u001b[37m\u001b[0m \u001b[1m0s\u001b[0m 4ms/step \n",
      "Step # 44\n",
      "\u001b[1m10/10\u001b[0m \u001b[32m━━━━━━━━━━━━━━━━━━━━\u001b[0m\u001b[37m\u001b[0m \u001b[1m0s\u001b[0m 4ms/step \n",
      "Step # 45\n",
      "\u001b[1m10/10\u001b[0m \u001b[32m━━━━━━━━━━━━━━━━━━━━\u001b[0m\u001b[37m\u001b[0m \u001b[1m0s\u001b[0m 5ms/step \n",
      "Step # 46\n",
      "\u001b[1m10/10\u001b[0m \u001b[32m━━━━━━━━━━━━━━━━━━━━\u001b[0m\u001b[37m\u001b[0m \u001b[1m0s\u001b[0m 5ms/step \n",
      "Step # 47\n",
      "\u001b[1m10/10\u001b[0m \u001b[32m━━━━━━━━━━━━━━━━━━━━\u001b[0m\u001b[37m\u001b[0m \u001b[1m0s\u001b[0m 5ms/step \n",
      "Step # 48\n",
      "\u001b[1m10/10\u001b[0m \u001b[32m━━━━━━━━━━━━━━━━━━━━\u001b[0m\u001b[37m\u001b[0m \u001b[1m0s\u001b[0m 5ms/step \n",
      "Step # 49\n",
      "\u001b[1m10/10\u001b[0m \u001b[32m━━━━━━━━━━━━━━━━━━━━\u001b[0m\u001b[37m\u001b[0m \u001b[1m0s\u001b[0m 4ms/step \n",
      "[324.74837757402105, 280.1855414365599, 469.2750269968826, 323.01291597526887, 309.7089498513234, 246.25595199131078, 358.56003257785983, 425.62856001746775, 347.17761194729934, 357.2467596524068, 274.7909690835939, 329.0890492976441, 302.99760724510725, 428.9020050606718, 342.76557087707977, 539.9629999973504, 271.2269707591378, 361.1561667946341, 330.489789916736, 234.37028764106046, 533.5254492539771, 231.38980475874354, 252.39166731320495, 291.357456193658, 237.18887872279984, 258.6320705577249, 285.54973775038684, 388.00533158917125, 294.3374008541166, 288.40811875438214, 239.5196422501744, 447.46952460167637, 303.7254414962319, 442.07275029578193, 410.8808512602891, 358.9502647891741, 362.5325990809929, 688.1323881557175, 284.6388513698842, 300.5115440541943, 283.25186435701994, 292.79397505683556, 512.0147524970259, 305.79671936391003, 379.68897708356906, 328.5437162886183, 403.2084433221002, 319.25778654159944, 540.1011807468403, 277.8690747982118]\n"
     ]
    }
   ],
   "source": [
    "# Empty list for storing al MSE values\n",
    "mse_normalized =[]\n",
    "\n",
    "for i in range(50):\n",
    "    print(f\"Step # {i}\")\n",
    "    # 1. Randomly split the data by holding 30% of the data for testing\n",
    "    X_train, X_test, y_train, y_test = train_test_split(predictors_normalized,target,test_size=0.3,random_state=42)\n",
    "\n",
    "    # 2. Train the model for 50 epochs\n",
    "    model = regression_model()\n",
    "    model.fit(X_train, y_train, epochs=50, verbose=0)\n",
    "\n",
    "    predictions = model.predict(X_test)\n",
    "\n",
    "    # 3. Evaluate the model\n",
    "    mse = mean_squared_error(y_test, predictions)\n",
    "    mse_normalized.append(mse)\n",
    "\n",
    "print(mse_normalized)"
   ]
  },
  {
   "cell_type": "code",
   "execution_count": 264,
   "id": "03060f62-7cd9-40a0-b044-0bb194b3ac16",
   "metadata": {},
   "outputs": [],
   "source": [
    "# Create a dataframe with the MSE scores\n",
    "x_values = np.arange(len(mse_normalized))\n",
    "\n",
    "df_normalized = pd.DataFrame({\n",
    "    'iteration': x_values,\n",
    "    'mse': mse_normalized\n",
    "})\n",
    "\n",
    "# Save to CSV\n",
    "df_normalized.to_csv('neural_network_regression_normalized_mse.csv', index=False)"
   ]
  },
  {
   "cell_type": "markdown",
   "id": "820a3e9f-0e10-406d-bdd2-44c90feb9e7f",
   "metadata": {},
   "source": [
    "### 5. Reporting the mean and standard deviation of the mean squared errors"
   ]
  },
  {
   "cell_type": "code",
   "execution_count": 237,
   "id": "bfa383ec-ac06-45c2-a206-2882cd5ea84c",
   "metadata": {},
   "outputs": [
    {
     "name": "stdout",
     "output_type": "stream",
     "text": [
      "Mean of MSE: 347.9859481570286\n",
      "Standard Deviation of MSE: 94.15356142954823\n"
     ]
    }
   ],
   "source": [
    "# Calculate the mean and standard deviation\n",
    "mean_mse = np.mean(mse_normalized)\n",
    "std_mse = np.std(mse_normalized)\n",
    "\n",
    "# Print the values on screen\n",
    "print(f\"Mean of MSE: {mean_mse}\")\n",
    "print(f\"Standard Deviation of MSE: {std_mse}\")"
   ]
  },
  {
   "cell_type": "markdown",
   "id": "02cc4c4b-a90a-44b6-8309-42aacf056bf2",
   "metadata": {},
   "source": [
    "For comparison, lets get the mean squared errors calculated from unnormalized data"
   ]
  },
  {
   "cell_type": "code",
   "execution_count": 239,
   "id": "41c7bb49-eb2c-4098-8387-20d0eb44260c",
   "metadata": {},
   "outputs": [
    {
     "name": "stdout",
     "output_type": "stream",
     "text": [
      "Mean of MSE (unnormalized): 518.462444944406\n",
      "Standard Deviation of MSE (unnormalized): 581.1953007451983\n"
     ]
    }
   ],
   "source": [
    "df_mse_unnormalized = pd.read_csv('neural_network_regression_unnormalized_mse.csv')\n",
    "mean_mse_unnormalized = df_mse_unnormalized['mse'].mean()\n",
    "std_mse_unnormalized = df_mse_unnormalized['mse'].std(ddof=0)\n",
    "\n",
    "print(f\"Mean of MSE (unnormalized): {mean_mse_unnormalized}\")\n",
    "print(f\"Standard Deviation of MSE (unnormalized): {std_mse_unnormalized}\")"
   ]
  },
  {
   "cell_type": "code",
   "execution_count": 245,
   "id": "aa97b124-e5ef-4eb1-8cc6-6f4309f99319",
   "metadata": {},
   "outputs": [
    {
     "data": {
      "image/png": "[encoded data removed]",
      "text/plain": [
       "<Figure size 1200x600 with 2 Axes>"
      ]
     },
     "metadata": {},
     "output_type": "display_data"
    }
   ],
   "source": [
    "x_values = np.arange(len(mse_normalized))\n",
    "\n",
    "# Calculate the overall min and max for y-axis\n",
    "y_min = min(min(mse_normalized), df_mse_unnormalized['mse'].min())\n",
    "y_max = max(max(mse_normalized), df_mse_unnormalized['mse'].max())\n",
    "\n",
    "# Add some padding (e.g., 5%) to make sure all elements are visible\n",
    "padding = (y_max - y_min) * 0.05\n",
    "y_min = y_min - padding\n",
    "y_max = y_max + padding\n",
    "\n",
    "plt.figure(figsize=(12, 6))\n",
    "\n",
    "# Normalized data plot\n",
    "plt.subplot(1, 2, 1)\n",
    "plt.scatter(x_values, mse_normalized, alpha=0.6, label='MSE values')\n",
    "plt.axhline(y=mean_mse, color='red', linestyle='--', label='Mean')\n",
    "plt.axhline(y=mean_mse + std_mse, color='green', linestyle='-.', label='Mean + Std')\n",
    "plt.axhline(y=mean_mse - std_mse, color='purple', linestyle='-.', label='Mean - Std')\n",
    "plt.xlabel('Iteration')\n",
    "plt.ylabel('Mean Squared Error')\n",
    "plt.title('MSE Values {Normalized} (Linear Scale)')\n",
    "plt.legend()\n",
    "plt.grid(True, alpha=0.3)\n",
    "plt.ylim(y_min, y_max)  # Set y-axis limits\n",
    "\n",
    "# Unnormalized data plot\n",
    "plt.subplot(1, 2, 2)\n",
    "plt.scatter(x_values, df_mse_unnormalized['mse'], alpha=0.6, label='MSE values')\n",
    "plt.axhline(y=mean_mse_unnormalized, color='red', linestyle='--', label='Mean')\n",
    "plt.axhline(y=mean_mse_unnormalized + std_mse_unnormalized, color='green', linestyle='-.', label='Mean + Std')\n",
    "plt.axhline(y=mean_mse_unnormalized - std_mse_unnormalized, color='purple', linestyle='-.', label='Mean - Std')\n",
    "plt.xlabel('Iteration')\n",
    "plt.ylabel('Mean Squared Error')\n",
    "plt.title('MSE Values {Unnormalized} (Linear Scale)')\n",
    "plt.legend()\n",
    "plt.grid(True, alpha=0.3)\n",
    "plt.ylim(y_min, y_max)  # Set y-axis limits\n",
    "\n",
    "plt.tight_layout()"
   ]
  },
  {
   "cell_type": "markdown",
   "id": "a20f140b-3efd-4884-b86a-45aa51a54547",
   "metadata": {},
   "source": [
    "### Result"
   ]
  },
  {
   "cell_type": "markdown",
   "id": "476f39c1-c8ea-4691-8803-b9bec77f2fbd",
   "metadata": {},
   "source": [
    "The unnormalized data showed high variability in MSE (std = 581.20) and the mean MSE was 518.46. There were several extreme spikes (>1500) (above scatter plot on the right). And the negative mean-std boundary (518.46 - 581.20 < 0) suggests poor model stability.\n",
    "\n",
    "After normalization (above scatter plot on the left):\n",
    "- **`Lower variability in MSE (std = 94.15)`**\n",
    "- **`Mean MSE of 347.99`**\n",
    "- Less extreme sprikes (>500)\n",
    "- **`Better model stability`**.\n",
    "\n",
    "<div class=\"alert alert-success\">\n",
    " This lower variability indicates that normalization helped stabilizing the model's performance.\n",
    "</div>\n",
    "\n",
    "\n",
    "\n",
    "\n"
   ]
  },
  {
   "cell_type": "code",
   "execution_count": null,
   "id": "7f6371c5-8b54-4bdf-bd68-1b901647dda1",
   "metadata": {},
   "outputs": [],
   "source": []
  }
 ],
 "metadata": {
  "kernelspec": {
   "display_name": "Python [conda env:nlp]",
   "language": "python",
   "name": "conda-env-nlp-py"
  },
  "language_info": {
   "codemirror_mode": {
    "name": "ipython",
    "version": 3
   },
   "file_extension": ".py",
   "mimetype": "text/x-python",
   "name": "python",
   "nbconvert_exporter": "python",
   "pygments_lexer": "ipython3",
   "version": "3.11.9"
  }
 },
 "nbformat": 4,
 "nbformat_minor": 5
}
