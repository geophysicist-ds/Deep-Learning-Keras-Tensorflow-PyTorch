{
 "cells": [
  {
   "cell_type": "markdown",
   "id": "c54d9c77-c45a-44b3-9f87-1a8b8db084e2",
   "metadata": {},
   "source": [
    "# Building a Regression Model in Keras"
   ]
  },
  {
   "cell_type": "markdown",
   "id": "d987aae5-a890-42f5-90e1-e28ebf218dac",
   "metadata": {},
   "source": [
    "## A. Build a baseline model "
   ]
  },
  {
   "cell_type": "markdown",
   "id": "e9111d34-cb90-4f4b-917d-143fa0a1e2d3",
   "metadata": {},
   "source": [
    "Use the Keras library to build a neural network with the following:\n",
    "\n",
    "- One hidden layer of 10 nodes, and a ReLU activation function\n",
    "\n",
    "- Use the **adam** optimizer and the **mean squared error**  as the loss function.\n",
    "\n",
    "1. Randomly split the data into a training and test sets by holding 30% of the data for testing. You can use the \n",
    "[train_test_split](https://scikit-learn.org/stable/modules/generated/sklearn.model_selection.train_test_split.html) helper function from Scikit-learn.\n",
    "\n",
    "2. Train the model on the training data using 50 epochs.\n",
    "\n",
    "3. Evaluate the model on the test data and compute the mean squared error between the predicted concrete strength and the actual concrete strength. You can use the mean_squared_error function from Scikit-learn.\n",
    "\n",
    "4. Repeat steps 1 - 3, 50 times, i.e., create a list of 50 mean squared errors.\n",
    "\n",
    "5. Report the **mean and the standard deviation of the mean squared errors**.\n",
    "\n"
   ]
  },
  {
   "cell_type": "markdown",
   "id": "228e782e-6661-4d10-9121-d887821115ff",
   "metadata": {},
   "source": [
    "### Import libraries that are required for the solution"
   ]
  },
  {
   "cell_type": "code",
   "execution_count": 4,
   "id": "ff1ff180-3aa2-462d-9d63-d0c604ea4c01",
   "metadata": {},
   "outputs": [
    {
     "name": "stderr",
     "output_type": "stream",
     "text": [
      "2025-02-26 23:06:48.231987: I tensorflow/core/platform/cpu_feature_guard.cc:210] This TensorFlow binary is optimized to use available CPU instructions in performance-critical operations.\n",
      "To enable the following instructions: SSE4.1 SSE4.2 AVX AVX2 FMA, in other operations, rebuild TensorFlow with the appropriate compiler flags.\n",
      "Matplotlib is building the font cache; this may take a moment.\n"
     ]
    }
   ],
   "source": [
    "import keras\n",
    "import pandas as pd\n",
    "import numpy as np\n",
    "\n",
    "# for building neural network\n",
    "from keras.models import Sequential\n",
    "from keras.layers import Dense\n",
    "from keras.layers import Input\n",
    "\n",
    "# for splitting data using scikit-learn library\n",
    "from sklearn.model_selection import train_test_split\n",
    "\n",
    "# for evaluating the model with mean squared error function from scikit-learn\n",
    "from sklearn.metrics import mean_squared_error\n",
    "\n",
    "# for visualizing the mean squared errors with statistics\n",
    "import matplotlib.pyplot as plt\n",
    "\n",
    "import warnings"
   ]
  },
  {
   "cell_type": "markdown",
   "id": "7b44f6e4-a1c0-4b1e-be26-67033d77529c",
   "metadata": {},
   "source": [
    "### Read the data"
   ]
  },
  {
   "cell_type": "markdown",
   "id": "c22fa60a-66a2-4355-9123-257638b8d0a0",
   "metadata": {},
   "source": [
    "The dataset is about the compressive strength of different samples of concrete based on the volumes of the different ingredients that were used to make them. Ingredients include:\n",
    "\n",
    "- Cement\n",
    "- Blast furnace slag\n",
    "- Fly ash\n",
    "- Water\n",
    "- Superplasticizer\n",
    "- Coarse aggregate\n",
    "- Fine aggregate\n",
    "\n",
    "Download the data and read it into a pandas dataframe"
   ]
  },
  {
   "cell_type": "code",
   "execution_count": 7,
   "id": "597f3925-b10e-4e12-8194-0921b0144390",
   "metadata": {},
   "outputs": [
    {
     "data": {
      "text/html": [
       "<div>\n",
       "<style scoped>\n",
       "    .dataframe tbody tr th:only-of-type {\n",
       "        vertical-align: middle;\n",
       "    }\n",
       "\n",
       "    .dataframe tbody tr th {\n",
       "        vertical-align: top;\n",
       "    }\n",
       "\n",
       "    .dataframe thead th {\n",
       "        text-align: right;\n",
       "    }\n",
       "</style>\n",
       "<table border=\"1\" class=\"dataframe\">\n",
       "  <thead>\n",
       "    <tr style=\"text-align: right;\">\n",
       "      <th></th>\n",
       "      <th>Cement</th>\n",
       "      <th>Blast Furnace Slag</th>\n",
       "      <th>Fly Ash</th>\n",
       "      <th>Water</th>\n",
       "      <th>Superplasticizer</th>\n",
       "      <th>Coarse Aggregate</th>\n",
       "      <th>Fine Aggregate</th>\n",
       "      <th>Age</th>\n",
       "      <th>Strength</th>\n",
       "    </tr>\n",
       "  </thead>\n",
       "  <tbody>\n",
       "    <tr>\n",
       "      <th>0</th>\n",
       "      <td>540.0</td>\n",
       "      <td>0.0</td>\n",
       "      <td>0.0</td>\n",
       "      <td>162.0</td>\n",
       "      <td>2.5</td>\n",
       "      <td>1040.0</td>\n",
       "      <td>676.0</td>\n",
       "      <td>28</td>\n",
       "      <td>79.99</td>\n",
       "    </tr>\n",
       "    <tr>\n",
       "      <th>1</th>\n",
       "      <td>540.0</td>\n",
       "      <td>0.0</td>\n",
       "      <td>0.0</td>\n",
       "      <td>162.0</td>\n",
       "      <td>2.5</td>\n",
       "      <td>1055.0</td>\n",
       "      <td>676.0</td>\n",
       "      <td>28</td>\n",
       "      <td>61.89</td>\n",
       "    </tr>\n",
       "    <tr>\n",
       "      <th>2</th>\n",
       "      <td>332.5</td>\n",
       "      <td>142.5</td>\n",
       "      <td>0.0</td>\n",
       "      <td>228.0</td>\n",
       "      <td>0.0</td>\n",
       "      <td>932.0</td>\n",
       "      <td>594.0</td>\n",
       "      <td>270</td>\n",
       "      <td>40.27</td>\n",
       "    </tr>\n",
       "    <tr>\n",
       "      <th>3</th>\n",
       "      <td>332.5</td>\n",
       "      <td>142.5</td>\n",
       "      <td>0.0</td>\n",
       "      <td>228.0</td>\n",
       "      <td>0.0</td>\n",
       "      <td>932.0</td>\n",
       "      <td>594.0</td>\n",
       "      <td>365</td>\n",
       "      <td>41.05</td>\n",
       "    </tr>\n",
       "    <tr>\n",
       "      <th>4</th>\n",
       "      <td>198.6</td>\n",
       "      <td>132.4</td>\n",
       "      <td>0.0</td>\n",
       "      <td>192.0</td>\n",
       "      <td>0.0</td>\n",
       "      <td>978.4</td>\n",
       "      <td>825.5</td>\n",
       "      <td>360</td>\n",
       "      <td>44.30</td>\n",
       "    </tr>\n",
       "  </tbody>\n",
       "</table>\n",
       "</div>"
      ],
      "text/plain": [
       "   Cement  Blast Furnace Slag  Fly Ash  Water  Superplasticizer  \\\n",
       "0   540.0                 0.0      0.0  162.0               2.5   \n",
       "1   540.0                 0.0      0.0  162.0               2.5   \n",
       "2   332.5               142.5      0.0  228.0               0.0   \n",
       "3   332.5               142.5      0.0  228.0               0.0   \n",
       "4   198.6               132.4      0.0  192.0               0.0   \n",
       "\n",
       "   Coarse Aggregate  Fine Aggregate  Age  Strength  \n",
       "0            1040.0           676.0   28     79.99  \n",
       "1            1055.0           676.0   28     61.89  \n",
       "2             932.0           594.0  270     40.27  \n",
       "3             932.0           594.0  365     41.05  \n",
       "4             978.4           825.5  360     44.30  "
      ]
     },
     "execution_count": 7,
     "metadata": {},
     "output_type": "execute_result"
    }
   ],
   "source": [
    "filepath = 'https://s3-api.us-geo.objectstorage.softlayer.net/cf-courses-data/CognitiveClass/DL0101EN/labs/data/concrete_data.csv'\n",
    "concrete_data = pd.read_csv(filepath)\n",
    "concrete_data.head()"
   ]
  },
  {
   "cell_type": "markdown",
   "id": "60221288-c643-4920-8851-058f69de70fa",
   "metadata": {},
   "source": [
    "Check how many data points the data have"
   ]
  },
  {
   "cell_type": "code",
   "execution_count": 9,
   "id": "b3cac2a1-ae41-4ea6-a365-c8fea0a72976",
   "metadata": {},
   "outputs": [
    {
     "data": {
      "text/plain": [
       "(1030, 9)"
      ]
     },
     "execution_count": 9,
     "metadata": {},
     "output_type": "execute_result"
    }
   ],
   "source": [
    "concrete_data.shape"
   ]
  },
  {
   "cell_type": "markdown",
   "id": "9d9c3403-7f5e-4e43-89dc-a405b72765c0",
   "metadata": {},
   "source": [
    "Check the data for any missing values"
   ]
  },
  {
   "cell_type": "code",
   "execution_count": 11,
   "id": "1da58583-a845-4b46-a1ab-a94de731fe56",
   "metadata": {},
   "outputs": [
    {
     "name": "stdout",
     "output_type": "stream",
     "text": [
      "<class 'pandas.core.frame.DataFrame'>\n",
      "RangeIndex: 1030 entries, 0 to 1029\n",
      "Data columns (total 9 columns):\n",
      " #   Column              Non-Null Count  Dtype  \n",
      "---  ------              --------------  -----  \n",
      " 0   Cement              1030 non-null   float64\n",
      " 1   Blast Furnace Slag  1030 non-null   float64\n",
      " 2   Fly Ash             1030 non-null   float64\n",
      " 3   Water               1030 non-null   float64\n",
      " 4   Superplasticizer    1030 non-null   float64\n",
      " 5   Coarse Aggregate    1030 non-null   float64\n",
      " 6   Fine Aggregate      1030 non-null   float64\n",
      " 7   Age                 1030 non-null   int64  \n",
      " 8   Strength            1030 non-null   float64\n",
      "dtypes: float64(8), int64(1)\n",
      "memory usage: 72.6 KB\n"
     ]
    }
   ],
   "source": [
    "concrete_data.info()"
   ]
  },
  {
   "cell_type": "code",
   "execution_count": 12,
   "id": "53637934-74d2-4274-ab15-58dcd7a170d1",
   "metadata": {},
   "outputs": [
    {
     "data": {
      "text/html": [
       "<div>\n",
       "<style scoped>\n",
       "    .dataframe tbody tr th:only-of-type {\n",
       "        vertical-align: middle;\n",
       "    }\n",
       "\n",
       "    .dataframe tbody tr th {\n",
       "        vertical-align: top;\n",
       "    }\n",
       "\n",
       "    .dataframe thead th {\n",
       "        text-align: right;\n",
       "    }\n",
       "</style>\n",
       "<table border=\"1\" class=\"dataframe\">\n",
       "  <thead>\n",
       "    <tr style=\"text-align: right;\">\n",
       "      <th></th>\n",
       "      <th>Cement</th>\n",
       "      <th>Blast Furnace Slag</th>\n",
       "      <th>Fly Ash</th>\n",
       "      <th>Water</th>\n",
       "      <th>Superplasticizer</th>\n",
       "      <th>Coarse Aggregate</th>\n",
       "      <th>Fine Aggregate</th>\n",
       "      <th>Age</th>\n",
       "      <th>Strength</th>\n",
       "    </tr>\n",
       "  </thead>\n",
       "  <tbody>\n",
       "    <tr>\n",
       "      <th>count</th>\n",
       "      <td>1030.000000</td>\n",
       "      <td>1030.000000</td>\n",
       "      <td>1030.000000</td>\n",
       "      <td>1030.000000</td>\n",
       "      <td>1030.000000</td>\n",
       "      <td>1030.000000</td>\n",
       "      <td>1030.000000</td>\n",
       "      <td>1030.000000</td>\n",
       "      <td>1030.000000</td>\n",
       "    </tr>\n",
       "    <tr>\n",
       "      <th>mean</th>\n",
       "      <td>281.167864</td>\n",
       "      <td>73.895825</td>\n",
       "      <td>54.188350</td>\n",
       "      <td>181.567282</td>\n",
       "      <td>6.204660</td>\n",
       "      <td>972.918932</td>\n",
       "      <td>773.580485</td>\n",
       "      <td>45.662136</td>\n",
       "      <td>35.817961</td>\n",
       "    </tr>\n",
       "    <tr>\n",
       "      <th>std</th>\n",
       "      <td>104.506364</td>\n",
       "      <td>86.279342</td>\n",
       "      <td>63.997004</td>\n",
       "      <td>21.354219</td>\n",
       "      <td>5.973841</td>\n",
       "      <td>77.753954</td>\n",
       "      <td>80.175980</td>\n",
       "      <td>63.169912</td>\n",
       "      <td>16.705742</td>\n",
       "    </tr>\n",
       "    <tr>\n",
       "      <th>min</th>\n",
       "      <td>102.000000</td>\n",
       "      <td>0.000000</td>\n",
       "      <td>0.000000</td>\n",
       "      <td>121.800000</td>\n",
       "      <td>0.000000</td>\n",
       "      <td>801.000000</td>\n",
       "      <td>594.000000</td>\n",
       "      <td>1.000000</td>\n",
       "      <td>2.330000</td>\n",
       "    </tr>\n",
       "    <tr>\n",
       "      <th>25%</th>\n",
       "      <td>192.375000</td>\n",
       "      <td>0.000000</td>\n",
       "      <td>0.000000</td>\n",
       "      <td>164.900000</td>\n",
       "      <td>0.000000</td>\n",
       "      <td>932.000000</td>\n",
       "      <td>730.950000</td>\n",
       "      <td>7.000000</td>\n",
       "      <td>23.710000</td>\n",
       "    </tr>\n",
       "    <tr>\n",
       "      <th>50%</th>\n",
       "      <td>272.900000</td>\n",
       "      <td>22.000000</td>\n",
       "      <td>0.000000</td>\n",
       "      <td>185.000000</td>\n",
       "      <td>6.400000</td>\n",
       "      <td>968.000000</td>\n",
       "      <td>779.500000</td>\n",
       "      <td>28.000000</td>\n",
       "      <td>34.445000</td>\n",
       "    </tr>\n",
       "    <tr>\n",
       "      <th>75%</th>\n",
       "      <td>350.000000</td>\n",
       "      <td>142.950000</td>\n",
       "      <td>118.300000</td>\n",
       "      <td>192.000000</td>\n",
       "      <td>10.200000</td>\n",
       "      <td>1029.400000</td>\n",
       "      <td>824.000000</td>\n",
       "      <td>56.000000</td>\n",
       "      <td>46.135000</td>\n",
       "    </tr>\n",
       "    <tr>\n",
       "      <th>max</th>\n",
       "      <td>540.000000</td>\n",
       "      <td>359.400000</td>\n",
       "      <td>200.100000</td>\n",
       "      <td>247.000000</td>\n",
       "      <td>32.200000</td>\n",
       "      <td>1145.000000</td>\n",
       "      <td>992.600000</td>\n",
       "      <td>365.000000</td>\n",
       "      <td>82.600000</td>\n",
       "    </tr>\n",
       "  </tbody>\n",
       "</table>\n",
       "</div>"
      ],
      "text/plain": [
       "            Cement  Blast Furnace Slag      Fly Ash        Water  \\\n",
       "count  1030.000000         1030.000000  1030.000000  1030.000000   \n",
       "mean    281.167864           73.895825    54.188350   181.567282   \n",
       "std     104.506364           86.279342    63.997004    21.354219   \n",
       "min     102.000000            0.000000     0.000000   121.800000   \n",
       "25%     192.375000            0.000000     0.000000   164.900000   \n",
       "50%     272.900000           22.000000     0.000000   185.000000   \n",
       "75%     350.000000          142.950000   118.300000   192.000000   \n",
       "max     540.000000          359.400000   200.100000   247.000000   \n",
       "\n",
       "       Superplasticizer  Coarse Aggregate  Fine Aggregate          Age  \\\n",
       "count       1030.000000       1030.000000     1030.000000  1030.000000   \n",
       "mean           6.204660        972.918932      773.580485    45.662136   \n",
       "std            5.973841         77.753954       80.175980    63.169912   \n",
       "min            0.000000        801.000000      594.000000     1.000000   \n",
       "25%            0.000000        932.000000      730.950000     7.000000   \n",
       "50%            6.400000        968.000000      779.500000    28.000000   \n",
       "75%           10.200000       1029.400000      824.000000    56.000000   \n",
       "max           32.200000       1145.000000      992.600000   365.000000   \n",
       "\n",
       "          Strength  \n",
       "count  1030.000000  \n",
       "mean     35.817961  \n",
       "std      16.705742  \n",
       "min       2.330000  \n",
       "25%      23.710000  \n",
       "50%      34.445000  \n",
       "75%      46.135000  \n",
       "max      82.600000  "
      ]
     },
     "execution_count": 12,
     "metadata": {},
     "output_type": "execute_result"
    }
   ],
   "source": [
    "concrete_data.describe()"
   ]
  },
  {
   "cell_type": "code",
   "execution_count": 13,
   "id": "2cca450e-8a86-4b18-ae43-e35da674ae36",
   "metadata": {},
   "outputs": [
    {
     "data": {
      "text/plain": [
       "Cement                0\n",
       "Blast Furnace Slag    0\n",
       "Fly Ash               0\n",
       "Water                 0\n",
       "Superplasticizer      0\n",
       "Coarse Aggregate      0\n",
       "Fine Aggregate        0\n",
       "Age                   0\n",
       "Strength              0\n",
       "dtype: int64"
      ]
     },
     "execution_count": 13,
     "metadata": {},
     "output_type": "execute_result"
    }
   ],
   "source": [
    "concrete_data.isnull().sum()"
   ]
  },
  {
   "cell_type": "markdown",
   "id": "40e13895-89be-4df7-a34c-b245470a0e75",
   "metadata": {},
   "source": [
    "#### Split data into predictors and target"
   ]
  },
  {
   "cell_type": "markdown",
   "id": "f5dca6c5-90af-4731-99c5-62d87be20f41",
   "metadata": {},
   "source": [
    "The target variable in this problem is the concrete sample strength. Therefore, our predictors will be all the other columns."
   ]
  },
  {
   "cell_type": "code",
   "execution_count": 16,
   "id": "a45939f9-fe99-444a-a09a-ef3d0fe3f820",
   "metadata": {},
   "outputs": [],
   "source": [
    "concrete_data_columns = concrete_data.columns"
   ]
  },
  {
   "cell_type": "code",
   "execution_count": 17,
   "id": "2333cf6d-4d7d-4eff-8f53-341839e76515",
   "metadata": {},
   "outputs": [],
   "source": [
    "predictors = concrete_data[concrete_data_columns[concrete_data_columns != 'Strength']]\n",
    "target = concrete_data['Strength']"
   ]
  },
  {
   "cell_type": "markdown",
   "id": "915d1056-dd8d-4796-88d2-bf80fcc17870",
   "metadata": {},
   "source": [
    "Quick Sanity check on predictors and target dataframes"
   ]
  },
  {
   "cell_type": "code",
   "execution_count": 19,
   "id": "1510d822-e8c7-4285-b2d1-710aaad73276",
   "metadata": {},
   "outputs": [
    {
     "data": {
      "text/html": [
       "<div>\n",
       "<style scoped>\n",
       "    .dataframe tbody tr th:only-of-type {\n",
       "        vertical-align: middle;\n",
       "    }\n",
       "\n",
       "    .dataframe tbody tr th {\n",
       "        vertical-align: top;\n",
       "    }\n",
       "\n",
       "    .dataframe thead th {\n",
       "        text-align: right;\n",
       "    }\n",
       "</style>\n",
       "<table border=\"1\" class=\"dataframe\">\n",
       "  <thead>\n",
       "    <tr style=\"text-align: right;\">\n",
       "      <th></th>\n",
       "      <th>Cement</th>\n",
       "      <th>Blast Furnace Slag</th>\n",
       "      <th>Fly Ash</th>\n",
       "      <th>Water</th>\n",
       "      <th>Superplasticizer</th>\n",
       "      <th>Coarse Aggregate</th>\n",
       "      <th>Fine Aggregate</th>\n",
       "      <th>Age</th>\n",
       "    </tr>\n",
       "  </thead>\n",
       "  <tbody>\n",
       "    <tr>\n",
       "      <th>0</th>\n",
       "      <td>540.0</td>\n",
       "      <td>0.0</td>\n",
       "      <td>0.0</td>\n",
       "      <td>162.0</td>\n",
       "      <td>2.5</td>\n",
       "      <td>1040.0</td>\n",
       "      <td>676.0</td>\n",
       "      <td>28</td>\n",
       "    </tr>\n",
       "    <tr>\n",
       "      <th>1</th>\n",
       "      <td>540.0</td>\n",
       "      <td>0.0</td>\n",
       "      <td>0.0</td>\n",
       "      <td>162.0</td>\n",
       "      <td>2.5</td>\n",
       "      <td>1055.0</td>\n",
       "      <td>676.0</td>\n",
       "      <td>28</td>\n",
       "    </tr>\n",
       "    <tr>\n",
       "      <th>2</th>\n",
       "      <td>332.5</td>\n",
       "      <td>142.5</td>\n",
       "      <td>0.0</td>\n",
       "      <td>228.0</td>\n",
       "      <td>0.0</td>\n",
       "      <td>932.0</td>\n",
       "      <td>594.0</td>\n",
       "      <td>270</td>\n",
       "    </tr>\n",
       "    <tr>\n",
       "      <th>3</th>\n",
       "      <td>332.5</td>\n",
       "      <td>142.5</td>\n",
       "      <td>0.0</td>\n",
       "      <td>228.0</td>\n",
       "      <td>0.0</td>\n",
       "      <td>932.0</td>\n",
       "      <td>594.0</td>\n",
       "      <td>365</td>\n",
       "    </tr>\n",
       "    <tr>\n",
       "      <th>4</th>\n",
       "      <td>198.6</td>\n",
       "      <td>132.4</td>\n",
       "      <td>0.0</td>\n",
       "      <td>192.0</td>\n",
       "      <td>0.0</td>\n",
       "      <td>978.4</td>\n",
       "      <td>825.5</td>\n",
       "      <td>360</td>\n",
       "    </tr>\n",
       "  </tbody>\n",
       "</table>\n",
       "</div>"
      ],
      "text/plain": [
       "   Cement  Blast Furnace Slag  Fly Ash  Water  Superplasticizer  \\\n",
       "0   540.0                 0.0      0.0  162.0               2.5   \n",
       "1   540.0                 0.0      0.0  162.0               2.5   \n",
       "2   332.5               142.5      0.0  228.0               0.0   \n",
       "3   332.5               142.5      0.0  228.0               0.0   \n",
       "4   198.6               132.4      0.0  192.0               0.0   \n",
       "\n",
       "   Coarse Aggregate  Fine Aggregate  Age  \n",
       "0            1040.0           676.0   28  \n",
       "1            1055.0           676.0   28  \n",
       "2             932.0           594.0  270  \n",
       "3             932.0           594.0  365  \n",
       "4             978.4           825.5  360  "
      ]
     },
     "execution_count": 19,
     "metadata": {},
     "output_type": "execute_result"
    }
   ],
   "source": [
    "predictors.head()"
   ]
  },
  {
   "cell_type": "code",
   "execution_count": 20,
   "id": "619d5068-da71-48df-b097-d4bc9396d2b9",
   "metadata": {},
   "outputs": [
    {
     "data": {
      "text/plain": [
       "0    79.99\n",
       "1    61.89\n",
       "2    40.27\n",
       "3    41.05\n",
       "4    44.30\n",
       "Name: Strength, dtype: float64"
      ]
     },
     "execution_count": 20,
     "metadata": {},
     "output_type": "execute_result"
    }
   ],
   "source": [
    "target.head()"
   ]
  },
  {
   "cell_type": "markdown",
   "id": "9ddd43df-9461-49e7-a0c0-9502124b7120",
   "metadata": {},
   "source": [
    "Let's save the number of predictors to *n_cols* since we will need this number when building our network."
   ]
  },
  {
   "cell_type": "code",
   "execution_count": 22,
   "id": "a0f7eaa9-bf61-4b84-b187-2a1346430e99",
   "metadata": {},
   "outputs": [],
   "source": [
    "n_cols = predictors.shape[1]"
   ]
  },
  {
   "cell_type": "markdown",
   "id": "f836cac4-07ea-44e4-906d-03b6d89b2bfa",
   "metadata": {},
   "source": [
    "### A. Build Neural Network"
   ]
  },
  {
   "cell_type": "markdown",
   "id": "1d6be7fe-d808-43da-8607-4d0c9a9d4770",
   "metadata": {},
   "source": [
    "Let's define a function that defines our regression model for us so that we can conveniently call it to create our model."
   ]
  },
  {
   "cell_type": "code",
   "execution_count": 25,
   "id": "027dec0e-bffc-4173-8941-2e79f8e13aa3",
   "metadata": {},
   "outputs": [],
   "source": [
    "def regression_model():\n",
    "    # Create a model with 10 hidden layers, ReLU activation function,\n",
    "    #   use adam optimizer, and the mean squared error as loss function\n",
    "    model = Sequential()\n",
    "    model.add(Input(shape=(n_cols,)))\n",
    "    model.add(Dense(10, activation='relu'))\n",
    "    model.add(Dense(1))\n",
    "\n",
    "    # compile model\n",
    "    model.compile(optimizer='adam', loss='mean_squared_error')\n",
    "\n",
    "    return model"
   ]
  },
  {
   "cell_type": "markdown",
   "id": "4d79321e-1342-4543-a654-1d58e8d85d8e",
   "metadata": {},
   "source": [
    "### 1. Split the data to training and testing"
   ]
  },
  {
   "cell_type": "markdown",
   "id": "18b4e62f-1cec-4d28-8a80-40ed840b515c",
   "metadata": {},
   "source": [
    "Randomly splitting the data into a training and test sets by holding 30% of the data for testing using **train_test_split** function from the scikit-learn module."
   ]
  },
  {
   "cell_type": "code",
   "execution_count": 28,
   "id": "c32d63e9-39b4-4547-b459-063b8df1d6fb",
   "metadata": {},
   "outputs": [],
   "source": [
    "X_train, X_test, y_train, y_test = train_test_split(predictors,target,test_size=0.3,random_state=42)"
   ]
  },
  {
   "cell_type": "markdown",
   "id": "c16648b8-e81e-46ea-90a1-f41c0e34038a",
   "metadata": {},
   "source": [
    "### 2. Train the model"
   ]
  },
  {
   "cell_type": "markdown",
   "id": "67451de2-024b-446c-9bc0-eaddc4b618d9",
   "metadata": {},
   "source": [
    "Train the model on the training data using **50 epochs**."
   ]
  },
  {
   "cell_type": "code",
   "execution_count": 31,
   "id": "8926248f-b7dd-4bab-876f-c56485f0dbcc",
   "metadata": {},
   "outputs": [
    {
     "name": "stdout",
     "output_type": "stream",
     "text": [
      "Epoch 1/50\n",
      "23/23 - 1s - 35ms/step - loss: 3232.1099\n",
      "Epoch 2/50\n",
      "23/23 - 0s - 2ms/step - loss: 1142.1029\n",
      "Epoch 3/50\n",
      "23/23 - 0s - 2ms/step - loss: 831.4598\n",
      "Epoch 4/50\n",
      "23/23 - 0s - 2ms/step - loss: 774.9940\n",
      "Epoch 5/50\n",
      "23/23 - 0s - 2ms/step - loss: 751.6467\n",
      "Epoch 6/50\n",
      "23/23 - 0s - 2ms/step - loss: 731.0726\n",
      "Epoch 7/50\n",
      "23/23 - 0s - 2ms/step - loss: 707.5297\n",
      "Epoch 8/50\n",
      "23/23 - 0s - 2ms/step - loss: 684.1231\n",
      "Epoch 9/50\n",
      "23/23 - 0s - 2ms/step - loss: 661.7139\n",
      "Epoch 10/50\n",
      "23/23 - 0s - 2ms/step - loss: 639.0328\n",
      "Epoch 11/50\n",
      "23/23 - 0s - 2ms/step - loss: 618.6678\n",
      "Epoch 12/50\n",
      "23/23 - 0s - 2ms/step - loss: 599.5742\n",
      "Epoch 13/50\n",
      "23/23 - 0s - 2ms/step - loss: 580.8453\n",
      "Epoch 14/50\n",
      "23/23 - 0s - 2ms/step - loss: 562.6025\n",
      "Epoch 15/50\n",
      "23/23 - 0s - 2ms/step - loss: 544.9312\n",
      "Epoch 16/50\n",
      "23/23 - 0s - 2ms/step - loss: 527.7510\n",
      "Epoch 17/50\n",
      "23/23 - 0s - 2ms/step - loss: 510.8153\n",
      "Epoch 18/50\n",
      "23/23 - 0s - 2ms/step - loss: 494.2917\n",
      "Epoch 19/50\n",
      "23/23 - 0s - 2ms/step - loss: 478.0441\n",
      "Epoch 20/50\n",
      "23/23 - 0s - 2ms/step - loss: 463.3963\n",
      "Epoch 21/50\n",
      "23/23 - 0s - 2ms/step - loss: 449.3155\n",
      "Epoch 22/50\n",
      "23/23 - 0s - 2ms/step - loss: 436.6825\n",
      "Epoch 23/50\n",
      "23/23 - 0s - 2ms/step - loss: 424.9334\n",
      "Epoch 24/50\n",
      "23/23 - 0s - 2ms/step - loss: 413.7786\n",
      "Epoch 25/50\n",
      "23/23 - 0s - 2ms/step - loss: 403.2079\n",
      "Epoch 26/50\n",
      "23/23 - 0s - 2ms/step - loss: 393.2168\n",
      "Epoch 27/50\n",
      "23/23 - 0s - 2ms/step - loss: 384.6623\n",
      "Epoch 28/50\n",
      "23/23 - 0s - 2ms/step - loss: 376.7977\n",
      "Epoch 29/50\n",
      "23/23 - 0s - 2ms/step - loss: 369.5736\n",
      "Epoch 30/50\n",
      "23/23 - 0s - 3ms/step - loss: 363.0488\n",
      "Epoch 31/50\n",
      "23/23 - 0s - 3ms/step - loss: 357.2980\n",
      "Epoch 32/50\n",
      "23/23 - 0s - 2ms/step - loss: 351.1308\n",
      "Epoch 33/50\n",
      "23/23 - 0s - 2ms/step - loss: 346.2958\n",
      "Epoch 34/50\n",
      "23/23 - 0s - 2ms/step - loss: 341.0943\n",
      "Epoch 35/50\n",
      "23/23 - 0s - 2ms/step - loss: 336.5775\n",
      "Epoch 36/50\n",
      "23/23 - 0s - 2ms/step - loss: 331.5375\n",
      "Epoch 37/50\n",
      "23/23 - 0s - 2ms/step - loss: 327.3475\n",
      "Epoch 38/50\n",
      "23/23 - 0s - 2ms/step - loss: 323.2816\n",
      "Epoch 39/50\n",
      "23/23 - 0s - 2ms/step - loss: 319.6385\n",
      "Epoch 40/50\n",
      "23/23 - 0s - 2ms/step - loss: 315.2917\n",
      "Epoch 41/50\n",
      "23/23 - 0s - 2ms/step - loss: 311.5310\n",
      "Epoch 42/50\n",
      "23/23 - 0s - 3ms/step - loss: 306.5514\n",
      "Epoch 43/50\n",
      "23/23 - 0s - 3ms/step - loss: 301.8335\n",
      "Epoch 44/50\n",
      "23/23 - 0s - 2ms/step - loss: 296.9809\n",
      "Epoch 45/50\n",
      "23/23 - 0s - 2ms/step - loss: 292.1365\n",
      "Epoch 46/50\n",
      "23/23 - 0s - 2ms/step - loss: 287.7343\n",
      "Epoch 47/50\n",
      "23/23 - 0s - 2ms/step - loss: 283.2127\n",
      "Epoch 48/50\n",
      "23/23 - 0s - 2ms/step - loss: 280.5833\n",
      "Epoch 49/50\n",
      "23/23 - 0s - 2ms/step - loss: 275.8199\n",
      "Epoch 50/50\n",
      "23/23 - 0s - 2ms/step - loss: 272.5240\n"
     ]
    },
    {
     "data": {
      "text/plain": [
       "<keras.src.callbacks.history.History at 0x13f53df50>"
      ]
     },
     "execution_count": 31,
     "metadata": {},
     "output_type": "execute_result"
    }
   ],
   "source": [
    "# build the model\n",
    "model = regression_model()\n",
    "model.fit(X_train, y_train, epochs=50, verbose=2)"
   ]
  },
  {
   "cell_type": "markdown",
   "id": "1ea1a7ed-3401-40fa-8eef-8dccae64b2d8",
   "metadata": {},
   "source": [
    "### 3. Evaluate the Model on the test data"
   ]
  },
  {
   "cell_type": "markdown",
   "id": "66239d03-489e-4e4e-b1a8-21ca53b128f5",
   "metadata": {},
   "source": [
    " Evaluating the model on the test data "
   ]
  },
  {
   "cell_type": "code",
   "execution_count": 34,
   "id": "89c5dfb4-707a-4dad-8456-51771026809e",
   "metadata": {},
   "outputs": [
    {
     "name": "stdout",
     "output_type": "stream",
     "text": [
      "\u001b[1m10/10\u001b[0m \u001b[32m━━━━━━━━━━━━━━━━━━━━\u001b[0m\u001b[37m\u001b[0m \u001b[1m0s\u001b[0m 4ms/step \n"
     ]
    }
   ],
   "source": [
    "# Prediction\n",
    "predictions = model.predict(X_test)"
   ]
  },
  {
   "cell_type": "markdown",
   "id": "89f88bdd-5977-4ead-b965-fbf28760e9f1",
   "metadata": {},
   "source": [
    "computing the mean squared error between the predicted concrete strength and the actual concrete strength using **mean_squared_error function** from Scikit-learn. "
   ]
  },
  {
   "cell_type": "code",
   "execution_count": 36,
   "id": "c7b1c9db-b8f9-4d26-a209-1e0bf3ea72fc",
   "metadata": {},
   "outputs": [
    {
     "name": "stdout",
     "output_type": "stream",
     "text": [
      "Mean Squared Error after testing the model: 290.5850511269962\n"
     ]
    }
   ],
   "source": [
    "mse = mean_squared_error(y_test, predictions)\n",
    "print(f\"Mean Squared Error after testing the model: {mse}\")"
   ]
  },
  {
   "cell_type": "markdown",
   "id": "f14db29d-3e36-41dc-973c-6f9ed9376627",
   "metadata": {},
   "source": [
    "### 4. Repeating the steps 1-3, 50 times"
   ]
  },
  {
   "cell_type": "code",
   "execution_count": 38,
   "id": "3bf1135a-3291-48ba-88e8-6ccbd799174c",
   "metadata": {},
   "outputs": [
    {
     "name": "stdout",
     "output_type": "stream",
     "text": [
      "Step # 0\n",
      "\u001b[1m10/10\u001b[0m \u001b[32m━━━━━━━━━━━━━━━━━━━━\u001b[0m\u001b[37m\u001b[0m \u001b[1m0s\u001b[0m 4ms/step \n",
      "Step # 1\n",
      "\u001b[1m10/10\u001b[0m \u001b[32m━━━━━━━━━━━━━━━━━━━━\u001b[0m\u001b[37m\u001b[0m \u001b[1m0s\u001b[0m 4ms/step \n",
      "Step # 2\n",
      "\u001b[1m10/10\u001b[0m \u001b[32m━━━━━━━━━━━━━━━━━━━━\u001b[0m\u001b[37m\u001b[0m \u001b[1m0s\u001b[0m 4ms/step \n",
      "Step # 3\n",
      "\u001b[1m10/10\u001b[0m \u001b[32m━━━━━━━━━━━━━━━━━━━━\u001b[0m\u001b[37m\u001b[0m \u001b[1m0s\u001b[0m 4ms/step \n",
      "Step # 4\n",
      "\u001b[1m10/10\u001b[0m \u001b[32m━━━━━━━━━━━━━━━━━━━━\u001b[0m\u001b[37m\u001b[0m \u001b[1m0s\u001b[0m 4ms/step \n",
      "Step # 5\n",
      "\u001b[1m10/10\u001b[0m \u001b[32m━━━━━━━━━━━━━━━━━━━━\u001b[0m\u001b[37m\u001b[0m \u001b[1m0s\u001b[0m 4ms/step \n",
      "Step # 6\n",
      "\u001b[1m10/10\u001b[0m \u001b[32m━━━━━━━━━━━━━━━━━━━━\u001b[0m\u001b[37m\u001b[0m \u001b[1m0s\u001b[0m 8ms/step \n",
      "Step # 7\n",
      "\u001b[1m10/10\u001b[0m \u001b[32m━━━━━━━━━━━━━━━━━━━━\u001b[0m\u001b[37m\u001b[0m \u001b[1m0s\u001b[0m 4ms/step \n",
      "Step # 8\n",
      "\u001b[1m10/10\u001b[0m \u001b[32m━━━━━━━━━━━━━━━━━━━━\u001b[0m\u001b[37m\u001b[0m \u001b[1m0s\u001b[0m 4ms/step \n",
      "Step # 9\n",
      "\u001b[1m10/10\u001b[0m \u001b[32m━━━━━━━━━━━━━━━━━━━━\u001b[0m\u001b[37m\u001b[0m \u001b[1m0s\u001b[0m 6ms/step \n",
      "Step # 10\n",
      "\u001b[1m10/10\u001b[0m \u001b[32m━━━━━━━━━━━━━━━━━━━━\u001b[0m\u001b[37m\u001b[0m \u001b[1m0s\u001b[0m 6ms/step \n",
      "Step # 11\n",
      "\u001b[1m10/10\u001b[0m \u001b[32m━━━━━━━━━━━━━━━━━━━━\u001b[0m\u001b[37m\u001b[0m \u001b[1m0s\u001b[0m 5ms/step \n",
      "Step # 12\n",
      "\u001b[1m10/10\u001b[0m \u001b[32m━━━━━━━━━━━━━━━━━━━━\u001b[0m\u001b[37m\u001b[0m \u001b[1m0s\u001b[0m 5ms/step \n",
      "Step # 13\n",
      "\u001b[1m10/10\u001b[0m \u001b[32m━━━━━━━━━━━━━━━━━━━━\u001b[0m\u001b[37m\u001b[0m \u001b[1m0s\u001b[0m 5ms/step \n",
      "Step # 14\n",
      "\u001b[1m10/10\u001b[0m \u001b[32m━━━━━━━━━━━━━━━━━━━━\u001b[0m\u001b[37m\u001b[0m \u001b[1m0s\u001b[0m 6ms/step \n",
      "Step # 15\n",
      "\u001b[1m10/10\u001b[0m \u001b[32m━━━━━━━━━━━━━━━━━━━━\u001b[0m\u001b[37m\u001b[0m \u001b[1m0s\u001b[0m 5ms/step \n",
      "Step # 16\n",
      "\u001b[1m10/10\u001b[0m \u001b[32m━━━━━━━━━━━━━━━━━━━━\u001b[0m\u001b[37m\u001b[0m \u001b[1m0s\u001b[0m 4ms/step \n",
      "Step # 17\n",
      "\u001b[1m10/10\u001b[0m \u001b[32m━━━━━━━━━━━━━━━━━━━━\u001b[0m\u001b[37m\u001b[0m \u001b[1m0s\u001b[0m 6ms/step \n",
      "Step # 18\n",
      "\u001b[1m10/10\u001b[0m \u001b[32m━━━━━━━━━━━━━━━━━━━━\u001b[0m\u001b[37m\u001b[0m \u001b[1m0s\u001b[0m 5ms/step \n",
      "Step # 19\n",
      "\u001b[1m10/10\u001b[0m \u001b[32m━━━━━━━━━━━━━━━━━━━━\u001b[0m\u001b[37m\u001b[0m \u001b[1m0s\u001b[0m 4ms/step \n",
      "Step # 20\n",
      "\u001b[1m10/10\u001b[0m \u001b[32m━━━━━━━━━━━━━━━━━━━━\u001b[0m\u001b[37m\u001b[0m \u001b[1m0s\u001b[0m 4ms/step \n",
      "Step # 21\n",
      "\u001b[1m10/10\u001b[0m \u001b[32m━━━━━━━━━━━━━━━━━━━━\u001b[0m\u001b[37m\u001b[0m \u001b[1m0s\u001b[0m 4ms/step \n",
      "Step # 22\n",
      "\u001b[1m10/10\u001b[0m \u001b[32m━━━━━━━━━━━━━━━━━━━━\u001b[0m\u001b[37m\u001b[0m \u001b[1m0s\u001b[0m 4ms/step \n",
      "Step # 23\n",
      "\u001b[1m10/10\u001b[0m \u001b[32m━━━━━━━━━━━━━━━━━━━━\u001b[0m\u001b[37m\u001b[0m \u001b[1m0s\u001b[0m 4ms/step \n",
      "Step # 24\n",
      "\u001b[1m10/10\u001b[0m \u001b[32m━━━━━━━━━━━━━━━━━━━━\u001b[0m\u001b[37m\u001b[0m \u001b[1m0s\u001b[0m 5ms/step \n",
      "Step # 25\n",
      "\u001b[1m10/10\u001b[0m \u001b[32m━━━━━━━━━━━━━━━━━━━━\u001b[0m\u001b[37m\u001b[0m \u001b[1m0s\u001b[0m 4ms/step \n",
      "Step # 26\n",
      "\u001b[1m10/10\u001b[0m \u001b[32m━━━━━━━━━━━━━━━━━━━━\u001b[0m\u001b[37m\u001b[0m \u001b[1m0s\u001b[0m 4ms/step \n",
      "Step # 27\n",
      "\u001b[1m10/10\u001b[0m \u001b[32m━━━━━━━━━━━━━━━━━━━━\u001b[0m\u001b[37m\u001b[0m \u001b[1m0s\u001b[0m 4ms/step \n",
      "Step # 28\n",
      "\u001b[1m10/10\u001b[0m \u001b[32m━━━━━━━━━━━━━━━━━━━━\u001b[0m\u001b[37m\u001b[0m \u001b[1m0s\u001b[0m 4ms/step \n",
      "Step # 29\n",
      "\u001b[1m10/10\u001b[0m \u001b[32m━━━━━━━━━━━━━━━━━━━━\u001b[0m\u001b[37m\u001b[0m \u001b[1m0s\u001b[0m 4ms/step \n",
      "Step # 30\n",
      "\u001b[1m10/10\u001b[0m \u001b[32m━━━━━━━━━━━━━━━━━━━━\u001b[0m\u001b[37m\u001b[0m \u001b[1m0s\u001b[0m 4ms/step \n",
      "Step # 31\n",
      "\u001b[1m10/10\u001b[0m \u001b[32m━━━━━━━━━━━━━━━━━━━━\u001b[0m\u001b[37m\u001b[0m \u001b[1m0s\u001b[0m 4ms/step \n",
      "Step # 32\n",
      "\u001b[1m10/10\u001b[0m \u001b[32m━━━━━━━━━━━━━━━━━━━━\u001b[0m\u001b[37m\u001b[0m \u001b[1m0s\u001b[0m 4ms/step \n",
      "Step # 33\n",
      "\u001b[1m10/10\u001b[0m \u001b[32m━━━━━━━━━━━━━━━━━━━━\u001b[0m\u001b[37m\u001b[0m \u001b[1m0s\u001b[0m 4ms/step \n",
      "Step # 34\n",
      "\u001b[1m10/10\u001b[0m \u001b[32m━━━━━━━━━━━━━━━━━━━━\u001b[0m\u001b[37m\u001b[0m \u001b[1m0s\u001b[0m 4ms/step \n",
      "Step # 35\n",
      "\u001b[1m10/10\u001b[0m \u001b[32m━━━━━━━━━━━━━━━━━━━━\u001b[0m\u001b[37m\u001b[0m \u001b[1m0s\u001b[0m 4ms/step \n",
      "Step # 36\n",
      "\u001b[1m10/10\u001b[0m \u001b[32m━━━━━━━━━━━━━━━━━━━━\u001b[0m\u001b[37m\u001b[0m \u001b[1m0s\u001b[0m 4ms/step \n",
      "Step # 37\n",
      "\u001b[1m10/10\u001b[0m \u001b[32m━━━━━━━━━━━━━━━━━━━━\u001b[0m\u001b[37m\u001b[0m \u001b[1m0s\u001b[0m 4ms/step \n",
      "Step # 38\n",
      "\u001b[1m10/10\u001b[0m \u001b[32m━━━━━━━━━━━━━━━━━━━━\u001b[0m\u001b[37m\u001b[0m \u001b[1m0s\u001b[0m 4ms/step \n",
      "Step # 39\n",
      "\u001b[1m10/10\u001b[0m \u001b[32m━━━━━━━━━━━━━━━━━━━━\u001b[0m\u001b[37m\u001b[0m \u001b[1m0s\u001b[0m 4ms/step \n",
      "Step # 40\n",
      "\u001b[1m10/10\u001b[0m \u001b[32m━━━━━━━━━━━━━━━━━━━━\u001b[0m\u001b[37m\u001b[0m \u001b[1m0s\u001b[0m 4ms/step \n",
      "Step # 41\n",
      "\u001b[1m10/10\u001b[0m \u001b[32m━━━━━━━━━━━━━━━━━━━━\u001b[0m\u001b[37m\u001b[0m \u001b[1m0s\u001b[0m 4ms/step \n",
      "Step # 42\n",
      "\u001b[1m10/10\u001b[0m \u001b[32m━━━━━━━━━━━━━━━━━━━━\u001b[0m\u001b[37m\u001b[0m \u001b[1m0s\u001b[0m 4ms/step \n",
      "Step # 43\n",
      "\u001b[1m10/10\u001b[0m \u001b[32m━━━━━━━━━━━━━━━━━━━━\u001b[0m\u001b[37m\u001b[0m \u001b[1m0s\u001b[0m 4ms/step \n",
      "Step # 44\n",
      "\u001b[1m10/10\u001b[0m \u001b[32m━━━━━━━━━━━━━━━━━━━━\u001b[0m\u001b[37m\u001b[0m \u001b[1m0s\u001b[0m 4ms/step \n",
      "Step # 45\n",
      "\u001b[1m10/10\u001b[0m \u001b[32m━━━━━━━━━━━━━━━━━━━━\u001b[0m\u001b[37m\u001b[0m \u001b[1m0s\u001b[0m 4ms/step \n",
      "Step # 46\n",
      "\u001b[1m10/10\u001b[0m \u001b[32m━━━━━━━━━━━━━━━━━━━━\u001b[0m\u001b[37m\u001b[0m \u001b[1m0s\u001b[0m 4ms/step \n",
      "Step # 47\n",
      "\u001b[1m10/10\u001b[0m \u001b[32m━━━━━━━━━━━━━━━━━━━━\u001b[0m\u001b[37m\u001b[0m \u001b[1m0s\u001b[0m 4ms/step \n",
      "Step # 48\n",
      "\u001b[1m10/10\u001b[0m \u001b[32m━━━━━━━━━━━━━━━━━━━━\u001b[0m\u001b[37m\u001b[0m \u001b[1m0s\u001b[0m 4ms/step \n",
      "Step # 49\n",
      "\u001b[1m10/10\u001b[0m \u001b[32m━━━━━━━━━━━━━━━━━━━━\u001b[0m\u001b[37m\u001b[0m \u001b[1m0s\u001b[0m 4ms/step \n",
      "[94.37744073223922, 651.4713273984833, 113.98935785647684, 1395.036521322983, 287.16061181540005, 718.1402314938147, 134.78912904634754, 108.7914974789322, 154.31800718169927, 1782.844541191951, 112.26013072456279, 559.8617366419351, 184.7086993105965, 122.76127787571863, 304.807903020533, 330.2264092160173, 2083.1002405929917, 162.35474124572224, 162.33565653335305, 670.3111237613723, 102.1624941526299, 1080.3188303747816, 335.9250433267936, 161.36927612379014, 1665.4831318874296, 162.58121846661035, 241.5861737872327, 110.63849079614576, 302.4519557432929, 106.25202231808251, 2287.3835907839143, 119.3333099757414, 142.7292044971386, 139.84208033644094, 169.10925600219625, 178.24704654572065, 1348.6740017804511, 101.19363057891427, 113.6954634244971, 832.6462544965306, 347.19434372416083, 291.1750027975443, 95.1439913479325, 858.614636895646, 1078.069901260443, 217.37495154371052, 253.06622917824905, 873.7239757164533, 206.75904805565298, 1866.7311068610438]\n"
     ]
    }
   ],
   "source": [
    "# Empty list for storing al MSE values\n",
    "mse_scores =[]\n",
    "\n",
    "for i in range(50):\n",
    "    print(f\"Step # {i}\")\n",
    "    # 1. Randomly split the data by holding 30% of the data for testing\n",
    "    X_train, X_test, y_train, y_test = train_test_split(predictors,target,test_size=0.3,random_state=42)\n",
    "\n",
    "    # 2. Train the model for 50 epochs\n",
    "    model = regression_model()\n",
    "    model.fit(X_train, y_train, epochs=50, verbose=0)\n",
    "\n",
    "    predictions = model.predict(X_test)\n",
    "\n",
    "    # 3. Evaluate the model\n",
    "    mse = mean_squared_error(y_test, predictions)\n",
    "    mse_scores.append(mse)\n",
    "\n",
    "print(mse_scores)"
   ]
  },
  {
   "cell_type": "markdown",
   "id": "af8b0d81-31bf-4415-8c63-cd736897a757",
   "metadata": {},
   "source": [
    "### 5. Reporting the mean and standard deviation of the mean squared errors"
   ]
  },
  {
   "cell_type": "code",
   "execution_count": 195,
   "id": "3cc56ee4-8853-4440-b13c-10eee8cfd10b",
   "metadata": {},
   "outputs": [
    {
     "name": "stdout",
     "output_type": "stream",
     "text": [
      "Mean of MSE: 518.462444944406\n",
      "Standard Deviation of MSE: 581.1953007451983\n"
     ]
    }
   ],
   "source": [
    "# Calculate the mean and standard deviation\n",
    "mean_mse = np.mean(mse_scores)\n",
    "std_mse = np.std(mse_scores)\n",
    "\n",
    "# Print the values on screen\n",
    "print(f\"Mean of MSE: {mean_mse}\")\n",
    "print(f\"Standard Deviation of MSE: {std_mse}\")"
   ]
  },
  {
   "cell_type": "code",
   "execution_count": 121,
   "id": "82f8d251-2519-4ad4-80f9-b53ec8662d41",
   "metadata": {},
   "outputs": [],
   "source": [
    "# Create a dataframe with the MSE scores\n",
    "x_values = np.arange(len(mse_scores))\n",
    "\n",
    "df_unnormalized = pd.DataFrame({\n",
    "    'iteration': x_values,\n",
    "    'mse': mse_scores\n",
    "})\n",
    "\n",
    "# Save to CSV\n",
    "df_unnormalized.to_csv('neural_network_regression_unnormalized_mse.csv', index=False)"
   ]
  },
  {
   "cell_type": "markdown",
   "id": "a183179d-b82c-4dae-b6a7-b6da84e6ec5c",
   "metadata": {},
   "source": [
    "#### Visual representation of Mean Squared Errors with mean and Standard Deviation"
   ]
  },
  {
   "cell_type": "code",
   "execution_count": 124,
   "id": "b64164c9-c0cc-4193-b969-d68c36e112e2",
   "metadata": {},
   "outputs": [
    {
     "data": {
      "image/png": "[encoded data removed]",
      "text/plain": [
       "<Figure size 1200x600 with 2 Axes>"
      ]
     },
     "metadata": {},
     "output_type": "display_data"
    }
   ],
   "source": [
    "plt.figure(figsize=(12, 6))\n",
    "# Regular scale plot\n",
    "plt.subplot(1, 2, 1)\n",
    "plt.scatter(x_values, mse_scores, alpha=0.6, label='MSE values')\n",
    "plt.axhline(y=mean_mse, color='red', linestyle='--', label='Mean')\n",
    "plt.axhline(y=mean_mse + std_mse, color='green', linestyle='-.', label='Mean + Std')\n",
    "plt.axhline(y=mean_mse - std_mse, color='purple', linestyle='-.', label='Mean - Std')\n",
    "plt.xlabel('Iteration')\n",
    "plt.ylabel('Mean Squared Error')\n",
    "plt.title('MSE Values (Linear Scale)')\n",
    "plt.legend()\n",
    "plt.grid(True, alpha=0.3)\n",
    "\n",
    "# Log scale plot\n",
    "plt.subplot(1, 2, 2)\n",
    "plt.scatter(x_values, mse_scores, alpha=0.6, label='MSE values')\n",
    "plt.axhline(y=mean_mse, color='red', linestyle='--', label='Mean')\n",
    "plt.axhline(y=mean_mse + std_mse, color='green', linestyle='-.', label='Mean + Std')\n",
    "plt.yscale('log')\n",
    "plt.xlabel('Iteration')\n",
    "plt.ylabel('Mean Squared Error (log scale)')\n",
    "plt.title('MSE Values (Log Scale)')\n",
    "plt.legend()\n",
    "plt.grid(True, alpha=0.3)\n",
    "\n",
    "plt.tight_layout()"
   ]
  },
  {
   "cell_type": "markdown",
   "id": "e5712127-9837-4555-916c-2e96223baaed",
   "metadata": {},
   "source": [
    "### Result"
   ]
  },
  {
   "cell_type": "markdown",
   "id": "bbd07823-2af9-4adb-af42-b794592598fb",
   "metadata": {},
   "source": [
    "The unnormalized data shows:\n",
    "- `High variability in MSE (std = 581.20)`\n",
    "- `Mean MSE of 518.46`\n",
    "- Several extreme spikes (>1500)\n",
    "- `The negative mean-std boundary (518.46 - 581.20 < 0) suggests poor model stability`.\n",
    "\n",
    "This high variability and potential for negative boundaries indicates that normalization could help stabilize the model's performance.\n"
   ]
  },
  {
   "cell_type": "code",
   "execution_count": null,
   "id": "1f5ff3f0-5187-444e-b28b-a636ffc005a2",
   "metadata": {},
   "outputs": [],
   "source": []
  }
 ],
 "metadata": {
  "kernelspec": {
   "display_name": "Python [conda env:nlp]",
   "language": "python",
   "name": "conda-env-nlp-py"
  },
  "language_info": {
   "codemirror_mode": {
    "name": "ipython",
    "version": 3
   },
   "file_extension": ".py",
   "mimetype": "text/x-python",
   "name": "python",
   "nbconvert_exporter": "python",
   "pygments_lexer": "ipython3",
   "version": "3.11.9"
  }
 },
 "nbformat": 4,
 "nbformat_minor": 5
}
