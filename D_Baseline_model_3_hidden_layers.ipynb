{
 "cells": [
  {
   "cell_type": "markdown",
   "id": "68acb8a5-33d6-4265-80ea-75ad42844238",
   "metadata": {},
   "source": [
    "# Building a Regression Model in Keras"
   ]
  },
  {
   "cell_type": "markdown",
   "id": "0c046adb-44a7-4676-97b8-73cda544c005",
   "metadata": {},
   "source": [
    "## D. Increase the number of hidden layers"
   ]
  },
  {
   "cell_type": "markdown",
   "id": "58d10f87-b132-4477-a0a0-38cdba15c501",
   "metadata": {},
   "source": [
    "Repeat part B **but use a neural network with the following instead**:\n",
    "\n",
    "- Three hidden layers, each of 10 nodes and ReLU activation function.\n",
    "\n"
   ]
  },
  {
   "cell_type": "markdown",
   "id": "6e63230e-9d41-45ea-861d-dd1485c77a35",
   "metadata": {},
   "source": [
    "### Import libraries that are required for the solution"
   ]
  },
  {
   "cell_type": "code",
   "execution_count": 6,
   "id": "0a435b55-04ce-4620-b836-b81a837c1d2d",
   "metadata": {},
   "outputs": [
    {
     "name": "stderr",
     "output_type": "stream",
     "text": [
      "2025-02-27 17:17:16.450006: I tensorflow/core/platform/cpu_feature_guard.cc:210] This TensorFlow binary is optimized to use available CPU instructions in performance-critical operations.\n",
      "To enable the following instructions: SSE4.1 SSE4.2 AVX AVX2 FMA, in other operations, rebuild TensorFlow with the appropriate compiler flags.\n"
     ]
    }
   ],
   "source": [
    "import keras\n",
    "import pandas as pd\n",
    "import numpy as np\n",
    "\n",
    "# for building neural network\n",
    "from keras.models import Sequential\n",
    "from keras.layers import Dense\n",
    "from keras.layers import Input\n",
    "\n",
    "# for splitting data using scikit-learn library\n",
    "from sklearn.model_selection import train_test_split\n",
    "\n",
    "# for evaluating the model with mean squared error function from scikit-learn\n",
    "from sklearn.metrics import mean_squared_error\n",
    "\n",
    "# for visualizing the mean squared errors with statistics\n",
    "import matplotlib.pyplot as plt\n",
    "\n",
    "import warnings"
   ]
  },
  {
   "cell_type": "markdown",
   "id": "66ae1122-5f15-48a9-8a3c-35b577760fd0",
   "metadata": {},
   "source": [
    "### Read the data"
   ]
  },
  {
   "cell_type": "code",
   "execution_count": 8,
   "id": "17f9dbcd-bc51-4652-9987-dcfda43c0eeb",
   "metadata": {},
   "outputs": [
    {
     "data": {
      "text/html": [
       "<div>\n",
       "<style scoped>\n",
       "    .dataframe tbody tr th:only-of-type {\n",
       "        vertical-align: middle;\n",
       "    }\n",
       "\n",
       "    .dataframe tbody tr th {\n",
       "        vertical-align: top;\n",
       "    }\n",
       "\n",
       "    .dataframe thead th {\n",
       "        text-align: right;\n",
       "    }\n",
       "</style>\n",
       "<table border=\"1\" class=\"dataframe\">\n",
       "  <thead>\n",
       "    <tr style=\"text-align: right;\">\n",
       "      <th></th>\n",
       "      <th>Cement</th>\n",
       "      <th>Blast Furnace Slag</th>\n",
       "      <th>Fly Ash</th>\n",
       "      <th>Water</th>\n",
       "      <th>Superplasticizer</th>\n",
       "      <th>Coarse Aggregate</th>\n",
       "      <th>Fine Aggregate</th>\n",
       "      <th>Age</th>\n",
       "      <th>Strength</th>\n",
       "    </tr>\n",
       "  </thead>\n",
       "  <tbody>\n",
       "    <tr>\n",
       "      <th>0</th>\n",
       "      <td>540.0</td>\n",
       "      <td>0.0</td>\n",
       "      <td>0.0</td>\n",
       "      <td>162.0</td>\n",
       "      <td>2.5</td>\n",
       "      <td>1040.0</td>\n",
       "      <td>676.0</td>\n",
       "      <td>28</td>\n",
       "      <td>79.99</td>\n",
       "    </tr>\n",
       "    <tr>\n",
       "      <th>1</th>\n",
       "      <td>540.0</td>\n",
       "      <td>0.0</td>\n",
       "      <td>0.0</td>\n",
       "      <td>162.0</td>\n",
       "      <td>2.5</td>\n",
       "      <td>1055.0</td>\n",
       "      <td>676.0</td>\n",
       "      <td>28</td>\n",
       "      <td>61.89</td>\n",
       "    </tr>\n",
       "    <tr>\n",
       "      <th>2</th>\n",
       "      <td>332.5</td>\n",
       "      <td>142.5</td>\n",
       "      <td>0.0</td>\n",
       "      <td>228.0</td>\n",
       "      <td>0.0</td>\n",
       "      <td>932.0</td>\n",
       "      <td>594.0</td>\n",
       "      <td>270</td>\n",
       "      <td>40.27</td>\n",
       "    </tr>\n",
       "    <tr>\n",
       "      <th>3</th>\n",
       "      <td>332.5</td>\n",
       "      <td>142.5</td>\n",
       "      <td>0.0</td>\n",
       "      <td>228.0</td>\n",
       "      <td>0.0</td>\n",
       "      <td>932.0</td>\n",
       "      <td>594.0</td>\n",
       "      <td>365</td>\n",
       "      <td>41.05</td>\n",
       "    </tr>\n",
       "    <tr>\n",
       "      <th>4</th>\n",
       "      <td>198.6</td>\n",
       "      <td>132.4</td>\n",
       "      <td>0.0</td>\n",
       "      <td>192.0</td>\n",
       "      <td>0.0</td>\n",
       "      <td>978.4</td>\n",
       "      <td>825.5</td>\n",
       "      <td>360</td>\n",
       "      <td>44.30</td>\n",
       "    </tr>\n",
       "  </tbody>\n",
       "</table>\n",
       "</div>"
      ],
      "text/plain": [
       "   Cement  Blast Furnace Slag  Fly Ash  Water  Superplasticizer  \\\n",
       "0   540.0                 0.0      0.0  162.0               2.5   \n",
       "1   540.0                 0.0      0.0  162.0               2.5   \n",
       "2   332.5               142.5      0.0  228.0               0.0   \n",
       "3   332.5               142.5      0.0  228.0               0.0   \n",
       "4   198.6               132.4      0.0  192.0               0.0   \n",
       "\n",
       "   Coarse Aggregate  Fine Aggregate  Age  Strength  \n",
       "0            1040.0           676.0   28     79.99  \n",
       "1            1055.0           676.0   28     61.89  \n",
       "2             932.0           594.0  270     40.27  \n",
       "3             932.0           594.0  365     41.05  \n",
       "4             978.4           825.5  360     44.30  "
      ]
     },
     "execution_count": 8,
     "metadata": {},
     "output_type": "execute_result"
    }
   ],
   "source": [
    "filepath = 'https://s3-api.us-geo.objectstorage.softlayer.net/cf-courses-data/CognitiveClass/DL0101EN/labs/data/concrete_data.csv'\n",
    "concrete_data = pd.read_csv(filepath)\n",
    "concrete_data.head()"
   ]
  },
  {
   "cell_type": "markdown",
   "id": "da255f4d-7f52-4000-8114-8f7367c6daa6",
   "metadata": {},
   "source": [
    "#### Split data into predictors and target"
   ]
  },
  {
   "cell_type": "code",
   "execution_count": 12,
   "id": "a3420c6c-8f2b-456c-9fd0-cffb03c027d3",
   "metadata": {},
   "outputs": [],
   "source": [
    "concrete_data_columns = concrete_data.columns\n",
    "\n",
    "predictors = concrete_data[concrete_data_columns[concrete_data_columns != 'Strength']]\n",
    "target = concrete_data['Strength']"
   ]
  },
  {
   "cell_type": "code",
   "execution_count": 14,
   "id": "f76a4edf-0638-4bc9-a814-fe7aa4a4efa2",
   "metadata": {},
   "outputs": [],
   "source": [
    "n_cols = predictors.shape[1]"
   ]
  },
  {
   "cell_type": "markdown",
   "id": "995cb0eb-7bb5-4f57-9746-f2b9f73f6677",
   "metadata": {},
   "source": [
    "### B. Normalize the data"
   ]
  },
  {
   "cell_type": "code",
   "execution_count": 17,
   "id": "33c6e621-9d8d-4b0c-81d6-bbaf006d3983",
   "metadata": {},
   "outputs": [
    {
     "data": {
      "text/html": [
       "<div>\n",
       "<style scoped>\n",
       "    .dataframe tbody tr th:only-of-type {\n",
       "        vertical-align: middle;\n",
       "    }\n",
       "\n",
       "    .dataframe tbody tr th {\n",
       "        vertical-align: top;\n",
       "    }\n",
       "\n",
       "    .dataframe thead th {\n",
       "        text-align: right;\n",
       "    }\n",
       "</style>\n",
       "<table border=\"1\" class=\"dataframe\">\n",
       "  <thead>\n",
       "    <tr style=\"text-align: right;\">\n",
       "      <th></th>\n",
       "      <th>Cement</th>\n",
       "      <th>Blast Furnace Slag</th>\n",
       "      <th>Fly Ash</th>\n",
       "      <th>Water</th>\n",
       "      <th>Superplasticizer</th>\n",
       "      <th>Coarse Aggregate</th>\n",
       "      <th>Fine Aggregate</th>\n",
       "      <th>Age</th>\n",
       "    </tr>\n",
       "  </thead>\n",
       "  <tbody>\n",
       "    <tr>\n",
       "      <th>0</th>\n",
       "      <td>2.476712</td>\n",
       "      <td>-0.856472</td>\n",
       "      <td>-0.846733</td>\n",
       "      <td>-0.916319</td>\n",
       "      <td>-0.620147</td>\n",
       "      <td>0.862735</td>\n",
       "      <td>-1.217079</td>\n",
       "      <td>-0.279597</td>\n",
       "    </tr>\n",
       "    <tr>\n",
       "      <th>1</th>\n",
       "      <td>2.476712</td>\n",
       "      <td>-0.856472</td>\n",
       "      <td>-0.846733</td>\n",
       "      <td>-0.916319</td>\n",
       "      <td>-0.620147</td>\n",
       "      <td>1.055651</td>\n",
       "      <td>-1.217079</td>\n",
       "      <td>-0.279597</td>\n",
       "    </tr>\n",
       "    <tr>\n",
       "      <th>2</th>\n",
       "      <td>0.491187</td>\n",
       "      <td>0.795140</td>\n",
       "      <td>-0.846733</td>\n",
       "      <td>2.174405</td>\n",
       "      <td>-1.038638</td>\n",
       "      <td>-0.526262</td>\n",
       "      <td>-2.239829</td>\n",
       "      <td>3.551340</td>\n",
       "    </tr>\n",
       "    <tr>\n",
       "      <th>3</th>\n",
       "      <td>0.491187</td>\n",
       "      <td>0.795140</td>\n",
       "      <td>-0.846733</td>\n",
       "      <td>2.174405</td>\n",
       "      <td>-1.038638</td>\n",
       "      <td>-0.526262</td>\n",
       "      <td>-2.239829</td>\n",
       "      <td>5.055221</td>\n",
       "    </tr>\n",
       "    <tr>\n",
       "      <th>4</th>\n",
       "      <td>-0.790075</td>\n",
       "      <td>0.678079</td>\n",
       "      <td>-0.846733</td>\n",
       "      <td>0.488555</td>\n",
       "      <td>-1.038638</td>\n",
       "      <td>0.070492</td>\n",
       "      <td>0.647569</td>\n",
       "      <td>4.976069</td>\n",
       "    </tr>\n",
       "  </tbody>\n",
       "</table>\n",
       "</div>"
      ],
      "text/plain": [
       "     Cement  Blast Furnace Slag   Fly Ash     Water  Superplasticizer  \\\n",
       "0  2.476712           -0.856472 -0.846733 -0.916319         -0.620147   \n",
       "1  2.476712           -0.856472 -0.846733 -0.916319         -0.620147   \n",
       "2  0.491187            0.795140 -0.846733  2.174405         -1.038638   \n",
       "3  0.491187            0.795140 -0.846733  2.174405         -1.038638   \n",
       "4 -0.790075            0.678079 -0.846733  0.488555         -1.038638   \n",
       "\n",
       "   Coarse Aggregate  Fine Aggregate       Age  \n",
       "0          0.862735       -1.217079 -0.279597  \n",
       "1          1.055651       -1.217079 -0.279597  \n",
       "2         -0.526262       -2.239829  3.551340  \n",
       "3         -0.526262       -2.239829  5.055221  \n",
       "4          0.070492        0.647569  4.976069  "
      ]
     },
     "execution_count": 17,
     "metadata": {},
     "output_type": "execute_result"
    }
   ],
   "source": [
    "predictors_normalized = (predictors - predictors.mean())/ predictors.std()\n",
    "predictors_normalized.head()"
   ]
  },
  {
   "cell_type": "markdown",
   "id": "3bb89b38-cb27-46e3-b771-3e8eaeb7c9f7",
   "metadata": {},
   "source": [
    "#### Build Neural Network"
   ]
  },
  {
   "cell_type": "markdown",
   "id": "ec26eeb1-0128-4185-ac13-635cbe75cae0",
   "metadata": {},
   "source": [
    "Defining a function that defines our regression model for us so that we can conveniently call it to create our model. \n",
    "\n",
    "There will be three hidden layers, each of 10 nodes and ReLU activation function"
   ]
  },
  {
   "cell_type": "code",
   "execution_count": 20,
   "id": "59bead0a-dc8b-45e3-867e-a3d260c564f4",
   "metadata": {},
   "outputs": [],
   "source": [
    "def regression_model():\n",
    "    # Create a model with 3 hidden layers with each of 10 nodes, ReLU activation function,\n",
    "    #   use adam optimizer, and the mean squared error as loss function\n",
    "    model = Sequential()\n",
    "    model.add(Input(shape=(n_cols,)))\n",
    "    model.add(Dense(10, activation='relu'))\n",
    "    model.add(Dense(10, activation='relu'))\n",
    "    model.add(Dense(10, activation='relu'))\n",
    "    model.add(Dense(1))\n",
    "\n",
    "    # compile model\n",
    "    model.compile(optimizer='adam', loss='mean_squared_error')\n",
    "\n",
    "    return model"
   ]
  },
  {
   "cell_type": "markdown",
   "id": "21c732d0-3272-47c1-8908-ee54300ed371",
   "metadata": {},
   "source": [
    "### 1. Split the data to training and testing"
   ]
  },
  {
   "cell_type": "markdown",
   "id": "dd6c11a2-c716-4b20-99a6-5bcc4962932e",
   "metadata": {},
   "source": [
    "Randomly splitting the data into a training and test sets by holding 30% of the data for testing using **train_test_split** function from the scikit-learn module.\n",
    "\n",
    "<div class=\"alert alert-info\"> \n",
    "\n",
    "  **Note:** We will be using the normalized data\n",
    "\n",
    "</div> "
   ]
  },
  {
   "cell_type": "code",
   "execution_count": 24,
   "id": "a96d43fa-56e7-45f3-83cb-ce44ee2382c5",
   "metadata": {},
   "outputs": [],
   "source": [
    "X_train, X_test, y_train, y_test = train_test_split(predictors_normalized,target,test_size=0.3,random_state=42)"
   ]
  },
  {
   "cell_type": "markdown",
   "id": "7807796e-cc80-44be-8463-016139e677b7",
   "metadata": {},
   "source": [
    "### 2. Train the model"
   ]
  },
  {
   "cell_type": "markdown",
   "id": "4e00f6bb-26e9-4aa3-a3ec-c514e077b4c0",
   "metadata": {},
   "source": [
    "Train the model on the training data using **50 epochs**."
   ]
  },
  {
   "cell_type": "code",
   "execution_count": 28,
   "id": "263a784d-0838-416e-b44e-e86b3d95e09a",
   "metadata": {},
   "outputs": [
    {
     "name": "stdout",
     "output_type": "stream",
     "text": [
      "Epoch 1/50\n",
      "23/23 - 1s - 47ms/step - loss: 1570.7512\n",
      "Epoch 2/50\n",
      "23/23 - 0s - 3ms/step - loss: 1545.2075\n",
      "Epoch 3/50\n",
      "23/23 - 0s - 3ms/step - loss: 1501.7332\n",
      "Epoch 4/50\n",
      "23/23 - 0s - 3ms/step - loss: 1425.9169\n",
      "Epoch 5/50\n",
      "23/23 - 0s - 3ms/step - loss: 1297.7412\n",
      "Epoch 6/50\n",
      "23/23 - 0s - 3ms/step - loss: 1104.5205\n",
      "Epoch 7/50\n",
      "23/23 - 0s - 3ms/step - loss: 841.0506\n",
      "Epoch 8/50\n",
      "23/23 - 0s - 3ms/step - loss: 560.4488\n",
      "Epoch 9/50\n",
      "23/23 - 0s - 3ms/step - loss: 364.0211\n",
      "Epoch 10/50\n",
      "23/23 - 0s - 3ms/step - loss: 277.6898\n",
      "Epoch 11/50\n",
      "23/23 - 0s - 3ms/step - loss: 242.7578\n",
      "Epoch 12/50\n",
      "23/23 - 0s - 3ms/step - loss: 221.0121\n",
      "Epoch 13/50\n",
      "23/23 - 0s - 4ms/step - loss: 204.7612\n",
      "Epoch 14/50\n",
      "23/23 - 0s - 4ms/step - loss: 193.1596\n",
      "Epoch 15/50\n",
      "23/23 - 0s - 6ms/step - loss: 184.2783\n",
      "Epoch 16/50\n",
      "23/23 - 0s - 3ms/step - loss: 177.1209\n",
      "Epoch 17/50\n",
      "23/23 - 0s - 3ms/step - loss: 170.7676\n",
      "Epoch 18/50\n",
      "23/23 - 0s - 3ms/step - loss: 165.9985\n",
      "Epoch 19/50\n",
      "23/23 - 0s - 3ms/step - loss: 161.7895\n",
      "Epoch 20/50\n",
      "23/23 - 0s - 3ms/step - loss: 158.2095\n",
      "Epoch 21/50\n",
      "23/23 - 0s - 3ms/step - loss: 155.1729\n",
      "Epoch 22/50\n",
      "23/23 - 0s - 3ms/step - loss: 153.0345\n",
      "Epoch 23/50\n",
      "23/23 - 0s - 3ms/step - loss: 150.0098\n",
      "Epoch 24/50\n",
      "23/23 - 0s - 3ms/step - loss: 147.9342\n",
      "Epoch 25/50\n",
      "23/23 - 0s - 3ms/step - loss: 145.3519\n",
      "Epoch 26/50\n",
      "23/23 - 0s - 3ms/step - loss: 143.4462\n",
      "Epoch 27/50\n",
      "23/23 - 0s - 3ms/step - loss: 141.5776\n",
      "Epoch 28/50\n",
      "23/23 - 0s - 3ms/step - loss: 140.0379\n",
      "Epoch 29/50\n",
      "23/23 - 0s - 3ms/step - loss: 138.3992\n",
      "Epoch 30/50\n",
      "23/23 - 0s - 3ms/step - loss: 137.0428\n",
      "Epoch 31/50\n",
      "23/23 - 0s - 2ms/step - loss: 135.8948\n",
      "Epoch 32/50\n",
      "23/23 - 0s - 3ms/step - loss: 135.2092\n",
      "Epoch 33/50\n",
      "23/23 - 0s - 3ms/step - loss: 133.0219\n",
      "Epoch 34/50\n",
      "23/23 - 0s - 3ms/step - loss: 132.1299\n",
      "Epoch 35/50\n",
      "23/23 - 0s - 3ms/step - loss: 131.2768\n",
      "Epoch 36/50\n",
      "23/23 - 0s - 3ms/step - loss: 129.6919\n",
      "Epoch 37/50\n",
      "23/23 - 0s - 3ms/step - loss: 128.5076\n",
      "Epoch 38/50\n",
      "23/23 - 0s - 3ms/step - loss: 127.6456\n",
      "Epoch 39/50\n",
      "23/23 - 0s - 3ms/step - loss: 126.8943\n",
      "Epoch 40/50\n",
      "23/23 - 0s - 3ms/step - loss: 125.7687\n",
      "Epoch 41/50\n",
      "23/23 - 0s - 2ms/step - loss: 125.0205\n",
      "Epoch 42/50\n",
      "23/23 - 0s - 2ms/step - loss: 124.0601\n",
      "Epoch 43/50\n",
      "23/23 - 0s - 3ms/step - loss: 123.2515\n",
      "Epoch 44/50\n",
      "23/23 - 0s - 3ms/step - loss: 122.7110\n",
      "Epoch 45/50\n",
      "23/23 - 0s - 3ms/step - loss: 121.4920\n",
      "Epoch 46/50\n",
      "23/23 - 0s - 2ms/step - loss: 121.1090\n",
      "Epoch 47/50\n",
      "23/23 - 0s - 3ms/step - loss: 120.2920\n",
      "Epoch 48/50\n",
      "23/23 - 0s - 3ms/step - loss: 119.8995\n",
      "Epoch 49/50\n",
      "23/23 - 0s - 3ms/step - loss: 118.7255\n",
      "Epoch 50/50\n",
      "23/23 - 0s - 3ms/step - loss: 118.6219\n"
     ]
    },
    {
     "data": {
      "text/plain": [
       "<keras.src.callbacks.history.History at 0x136e83990>"
      ]
     },
     "execution_count": 28,
     "metadata": {},
     "output_type": "execute_result"
    }
   ],
   "source": [
    "# build the model\n",
    "model = regression_model()\n",
    "model.fit(X_train, y_train, epochs=50, verbose=2)"
   ]
  },
  {
   "cell_type": "markdown",
   "id": "ada07b07-8c2c-4223-b9fc-f55c3d24a9ac",
   "metadata": {},
   "source": [
    "### 3. Evaluate the Model on the test data"
   ]
  },
  {
   "cell_type": "markdown",
   "id": "485ac393-71e7-4f36-8884-3f37818ebf70",
   "metadata": {},
   "source": [
    " Evaluating the model on the test data "
   ]
  },
  {
   "cell_type": "code",
   "execution_count": 33,
   "id": "d77f3f3e-8aba-4792-a147-19fb204e9129",
   "metadata": {},
   "outputs": [
    {
     "name": "stdout",
     "output_type": "stream",
     "text": [
      "\u001b[1m10/10\u001b[0m \u001b[32m━━━━━━━━━━━━━━━━━━━━\u001b[0m\u001b[37m\u001b[0m \u001b[1m0s\u001b[0m 7ms/step \n"
     ]
    }
   ],
   "source": [
    "# Prediction\n",
    "predictions = model.predict(X_test)"
   ]
  },
  {
   "cell_type": "markdown",
   "id": "cb6fa61e-a181-4afb-bbd9-ec644d704ade",
   "metadata": {},
   "source": [
    "computing the mean squared error between the predicted concrete strength and the actual concrete strength using mean_squared_error function from Scikit-learn."
   ]
  },
  {
   "cell_type": "code",
   "execution_count": 36,
   "id": "af7725df-a8bb-4fed-816d-f8252ccad8cb",
   "metadata": {},
   "outputs": [
    {
     "name": "stdout",
     "output_type": "stream",
     "text": [
      "Mean Squared Error after testing the model: 124.96258773572575\n"
     ]
    }
   ],
   "source": [
    "mse = mean_squared_error(y_test, predictions)\n",
    "print(f\"Mean Squared Error after testing the model: {mse}\")"
   ]
  },
  {
   "cell_type": "markdown",
   "id": "c73c8b44-af5c-4c1a-a626-72bd71b6d713",
   "metadata": {},
   "source": [
    "### 4. Repeating the steps 1-3, 50 times"
   ]
  },
  {
   "cell_type": "code",
   "execution_count": 42,
   "id": "52720043-f659-42f3-86b4-f9daeb005bab",
   "metadata": {},
   "outputs": [
    {
     "name": "stdout",
     "output_type": "stream",
     "text": [
      "Step # 0\n",
      "\u001b[1m10/10\u001b[0m \u001b[32m━━━━━━━━━━━━━━━━━━━━\u001b[0m\u001b[37m\u001b[0m \u001b[1m0s\u001b[0m 6ms/step \n",
      "Step # 1\n",
      "\u001b[1m10/10\u001b[0m \u001b[32m━━━━━━━━━━━━━━━━━━━━\u001b[0m\u001b[37m\u001b[0m \u001b[1m0s\u001b[0m 6ms/step \n",
      "Step # 2\n",
      "\u001b[1m10/10\u001b[0m \u001b[32m━━━━━━━━━━━━━━━━━━━━\u001b[0m\u001b[37m\u001b[0m \u001b[1m0s\u001b[0m 6ms/step \n",
      "Step # 3\n",
      "\u001b[1m10/10\u001b[0m \u001b[32m━━━━━━━━━━━━━━━━━━━━\u001b[0m\u001b[37m\u001b[0m \u001b[1m0s\u001b[0m 6ms/step \n",
      "Step # 4\n",
      "\u001b[1m10/10\u001b[0m \u001b[32m━━━━━━━━━━━━━━━━━━━━\u001b[0m\u001b[37m\u001b[0m \u001b[1m0s\u001b[0m 6ms/step \n",
      "Step # 5\n",
      "\u001b[1m10/10\u001b[0m \u001b[32m━━━━━━━━━━━━━━━━━━━━\u001b[0m\u001b[37m\u001b[0m \u001b[1m0s\u001b[0m 6ms/step \n",
      "Step # 6\n",
      "\u001b[1m10/10\u001b[0m \u001b[32m━━━━━━━━━━━━━━━━━━━━\u001b[0m\u001b[37m\u001b[0m \u001b[1m0s\u001b[0m 6ms/step \n",
      "Step # 7\n",
      "\u001b[1m10/10\u001b[0m \u001b[32m━━━━━━━━━━━━━━━━━━━━\u001b[0m\u001b[37m\u001b[0m \u001b[1m0s\u001b[0m 7ms/step \n",
      "Step # 8\n",
      "\u001b[1m10/10\u001b[0m \u001b[32m━━━━━━━━━━━━━━━━━━━━\u001b[0m\u001b[37m\u001b[0m \u001b[1m0s\u001b[0m 6ms/step \n",
      "Step # 9\n",
      "\u001b[1m10/10\u001b[0m \u001b[32m━━━━━━━━━━━━━━━━━━━━\u001b[0m\u001b[37m\u001b[0m \u001b[1m0s\u001b[0m 5ms/step \n",
      "Step # 10\n",
      "\u001b[1m10/10\u001b[0m \u001b[32m━━━━━━━━━━━━━━━━━━━━\u001b[0m\u001b[37m\u001b[0m \u001b[1m0s\u001b[0m 6ms/step \n",
      "Step # 11\n",
      "\u001b[1m10/10\u001b[0m \u001b[32m━━━━━━━━━━━━━━━━━━━━\u001b[0m\u001b[37m\u001b[0m \u001b[1m0s\u001b[0m 6ms/step \n",
      "Step # 12\n",
      "\u001b[1m10/10\u001b[0m \u001b[32m━━━━━━━━━━━━━━━━━━━━\u001b[0m\u001b[37m\u001b[0m \u001b[1m0s\u001b[0m 6ms/step \n",
      "Step # 13\n",
      "\u001b[1m10/10\u001b[0m \u001b[32m━━━━━━━━━━━━━━━━━━━━\u001b[0m\u001b[37m\u001b[0m \u001b[1m0s\u001b[0m 6ms/step \n",
      "Step # 14\n",
      "\u001b[1m10/10\u001b[0m \u001b[32m━━━━━━━━━━━━━━━━━━━━\u001b[0m\u001b[37m\u001b[0m \u001b[1m0s\u001b[0m 6ms/step \n",
      "Step # 15\n",
      "\u001b[1m10/10\u001b[0m \u001b[32m━━━━━━━━━━━━━━━━━━━━\u001b[0m\u001b[37m\u001b[0m \u001b[1m0s\u001b[0m 6ms/step \n",
      "Step # 16\n",
      "\u001b[1m10/10\u001b[0m \u001b[32m━━━━━━━━━━━━━━━━━━━━\u001b[0m\u001b[37m\u001b[0m \u001b[1m0s\u001b[0m 6ms/step \n",
      "Step # 17\n",
      "\u001b[1m10/10\u001b[0m \u001b[32m━━━━━━━━━━━━━━━━━━━━\u001b[0m\u001b[37m\u001b[0m \u001b[1m0s\u001b[0m 6ms/step \n",
      "Step # 18\n",
      "\u001b[1m10/10\u001b[0m \u001b[32m━━━━━━━━━━━━━━━━━━━━\u001b[0m\u001b[37m\u001b[0m \u001b[1m0s\u001b[0m 6ms/step \n",
      "Step # 19\n",
      "\u001b[1m10/10\u001b[0m \u001b[32m━━━━━━━━━━━━━━━━━━━━\u001b[0m\u001b[37m\u001b[0m \u001b[1m0s\u001b[0m 6ms/step \n",
      "Step # 20\n",
      "\u001b[1m10/10\u001b[0m \u001b[32m━━━━━━━━━━━━━━━━━━━━\u001b[0m\u001b[37m\u001b[0m \u001b[1m0s\u001b[0m 7ms/step \n",
      "Step # 21\n",
      "\u001b[1m10/10\u001b[0m \u001b[32m━━━━━━━━━━━━━━━━━━━━\u001b[0m\u001b[37m\u001b[0m \u001b[1m0s\u001b[0m 6ms/step \n",
      "Step # 22\n",
      "\u001b[1m10/10\u001b[0m \u001b[32m━━━━━━━━━━━━━━━━━━━━\u001b[0m\u001b[37m\u001b[0m \u001b[1m0s\u001b[0m 6ms/step \n",
      "Step # 23\n",
      "\u001b[1m10/10\u001b[0m \u001b[32m━━━━━━━━━━━━━━━━━━━━\u001b[0m\u001b[37m\u001b[0m \u001b[1m0s\u001b[0m 6ms/step \n",
      "Step # 24\n",
      "\u001b[1m10/10\u001b[0m \u001b[32m━━━━━━━━━━━━━━━━━━━━\u001b[0m\u001b[37m\u001b[0m \u001b[1m0s\u001b[0m 6ms/step \n",
      "Step # 25\n",
      "\u001b[1m10/10\u001b[0m \u001b[32m━━━━━━━━━━━━━━━━━━━━\u001b[0m\u001b[37m\u001b[0m \u001b[1m0s\u001b[0m 6ms/step \n",
      "Step # 26\n",
      "\u001b[1m10/10\u001b[0m \u001b[32m━━━━━━━━━━━━━━━━━━━━\u001b[0m\u001b[37m\u001b[0m \u001b[1m0s\u001b[0m 6ms/step \n",
      "Step # 27\n",
      "\u001b[1m10/10\u001b[0m \u001b[32m━━━━━━━━━━━━━━━━━━━━\u001b[0m\u001b[37m\u001b[0m \u001b[1m0s\u001b[0m 6ms/step \n",
      "Step # 28\n",
      "\u001b[1m10/10\u001b[0m \u001b[32m━━━━━━━━━━━━━━━━━━━━\u001b[0m\u001b[37m\u001b[0m \u001b[1m0s\u001b[0m 5ms/step \n",
      "Step # 29\n",
      "\u001b[1m10/10\u001b[0m \u001b[32m━━━━━━━━━━━━━━━━━━━━\u001b[0m\u001b[37m\u001b[0m \u001b[1m0s\u001b[0m 6ms/step \n",
      "Step # 30\n",
      "\u001b[1m10/10\u001b[0m \u001b[32m━━━━━━━━━━━━━━━━━━━━\u001b[0m\u001b[37m\u001b[0m \u001b[1m0s\u001b[0m 6ms/step \n",
      "Step # 31\n",
      "\u001b[1m10/10\u001b[0m \u001b[32m━━━━━━━━━━━━━━━━━━━━\u001b[0m\u001b[37m\u001b[0m \u001b[1m0s\u001b[0m 6ms/step \n",
      "Step # 32\n",
      "\u001b[1m10/10\u001b[0m \u001b[32m━━━━━━━━━━━━━━━━━━━━\u001b[0m\u001b[37m\u001b[0m \u001b[1m0s\u001b[0m 6ms/step \n",
      "Step # 33\n",
      "\u001b[1m10/10\u001b[0m \u001b[32m━━━━━━━━━━━━━━━━━━━━\u001b[0m\u001b[37m\u001b[0m \u001b[1m0s\u001b[0m 6ms/step \n",
      "Step # 34\n",
      "\u001b[1m10/10\u001b[0m \u001b[32m━━━━━━━━━━━━━━━━━━━━\u001b[0m\u001b[37m\u001b[0m \u001b[1m0s\u001b[0m 6ms/step \n",
      "Step # 35\n",
      "\u001b[1m10/10\u001b[0m \u001b[32m━━━━━━━━━━━━━━━━━━━━\u001b[0m\u001b[37m\u001b[0m \u001b[1m0s\u001b[0m 6ms/step \n",
      "Step # 36\n",
      "\u001b[1m10/10\u001b[0m \u001b[32m━━━━━━━━━━━━━━━━━━━━\u001b[0m\u001b[37m\u001b[0m \u001b[1m0s\u001b[0m 6ms/step \n",
      "Step # 37\n",
      "\u001b[1m10/10\u001b[0m \u001b[32m━━━━━━━━━━━━━━━━━━━━\u001b[0m\u001b[37m\u001b[0m \u001b[1m0s\u001b[0m 5ms/step \n",
      "Step # 38\n",
      "\u001b[1m10/10\u001b[0m \u001b[32m━━━━━━━━━━━━━━━━━━━━\u001b[0m\u001b[37m\u001b[0m \u001b[1m0s\u001b[0m 6ms/step \n",
      "Step # 39\n",
      "\u001b[1m10/10\u001b[0m \u001b[32m━━━━━━━━━━━━━━━━━━━━\u001b[0m\u001b[37m\u001b[0m \u001b[1m0s\u001b[0m 6ms/step \n",
      "Step # 40\n",
      "\u001b[1m10/10\u001b[0m \u001b[32m━━━━━━━━━━━━━━━━━━━━\u001b[0m\u001b[37m\u001b[0m \u001b[1m0s\u001b[0m 6ms/step \n",
      "Step # 41\n",
      "\u001b[1m10/10\u001b[0m \u001b[32m━━━━━━━━━━━━━━━━━━━━\u001b[0m\u001b[37m\u001b[0m \u001b[1m0s\u001b[0m 6ms/step \n",
      "Step # 42\n",
      "\u001b[1m10/10\u001b[0m \u001b[32m━━━━━━━━━━━━━━━━━━━━\u001b[0m\u001b[37m\u001b[0m \u001b[1m0s\u001b[0m 6ms/step \n",
      "Step # 43\n",
      "\u001b[1m10/10\u001b[0m \u001b[32m━━━━━━━━━━━━━━━━━━━━\u001b[0m\u001b[37m\u001b[0m \u001b[1m0s\u001b[0m 6ms/step \n",
      "Step # 44\n",
      "\u001b[1m10/10\u001b[0m \u001b[32m━━━━━━━━━━━━━━━━━━━━\u001b[0m\u001b[37m\u001b[0m \u001b[1m0s\u001b[0m 6ms/step \n",
      "Step # 45\n",
      "\u001b[1m10/10\u001b[0m \u001b[32m━━━━━━━━━━━━━━━━━━━━\u001b[0m\u001b[37m\u001b[0m \u001b[1m0s\u001b[0m 6ms/step \n",
      "Step # 46\n",
      "\u001b[1m10/10\u001b[0m \u001b[32m━━━━━━━━━━━━━━━━━━━━\u001b[0m\u001b[37m\u001b[0m \u001b[1m0s\u001b[0m 6ms/step \n",
      "Step # 47\n",
      "\u001b[1m10/10\u001b[0m \u001b[32m━━━━━━━━━━━━━━━━━━━━\u001b[0m\u001b[37m\u001b[0m \u001b[1m0s\u001b[0m 6ms/step \n",
      "Step # 48\n",
      "\u001b[1m10/10\u001b[0m \u001b[32m━━━━━━━━━━━━━━━━━━━━\u001b[0m\u001b[37m\u001b[0m \u001b[1m0s\u001b[0m 6ms/step \n",
      "Step # 49\n",
      "\u001b[1m10/10\u001b[0m \u001b[32m━━━━━━━━━━━━━━━━━━━━\u001b[0m\u001b[37m\u001b[0m \u001b[1m0s\u001b[0m 6ms/step \n",
      "[137.93920351376326, 131.44848841284178, 107.14603444825119, 101.41639826457273, 142.85061507761577, 132.93431012457808, 140.32545901283865, 139.03122224013302, 138.6027482825947, 121.64549917029838, 106.81860382461528, 85.49188881830368, 131.35496417408694, 143.383351201205, 129.09446025869963, 126.10388711081293, 100.72827305706987, 123.01063440176767, 137.5780439584729, 117.79175917413332, 82.48996795200215, 128.80059475899745, 124.4052674967525, 102.35078986145297, 123.90742249546106, 127.22426839643788, 127.52210721270376, 128.4135123343135, 132.21100697123265, 126.83545319502655, 132.78883031671364, 95.48939394507579, 129.22946400405283, 135.80263782286747, 130.54540648459033, 139.88716369171095, 108.63751090136961, 128.4449884245167, 134.45289000045796, 134.27130030329187, 132.61821772682964, 113.71747304972251, 135.90303148737163, 132.96402482087524, 133.87803766710454, 136.02004326621238, 133.1587318019157, 125.27683915523059, 121.0090747759932, 126.6723392632057]\n"
     ]
    }
   ],
   "source": [
    "# Empty list for storing al MSE values\n",
    "mse_normalized_3_hidden =[]\n",
    "\n",
    "for i in range(50):\n",
    "    print(f\"Step # {i}\")\n",
    "    # 1. Randomly split the data by holding 30% of the data for testing\n",
    "    X_train, X_test, y_train, y_test = train_test_split(predictors_normalized,target,test_size=0.3,random_state=42)\n",
    "\n",
    "    # 2. Train the model for 50 epochs\n",
    "    model = regression_model()\n",
    "    model.fit(X_train, y_train, epochs=50, verbose=0)\n",
    "\n",
    "    predictions = model.predict(X_test)\n",
    "\n",
    "    # 3. Evaluate the model\n",
    "    mse = mean_squared_error(y_test, predictions)\n",
    "    mse_normalized_3_hidden.append(mse)\n",
    "\n",
    "print(mse_normalized_3_hidden)"
   ]
  },
  {
   "cell_type": "code",
   "execution_count": 46,
   "id": "03060f62-7cd9-40a0-b044-0bb194b3ac16",
   "metadata": {},
   "outputs": [],
   "source": [
    "# Create a dataframe with the MSE scores\n",
    "x_values = np.arange(len(mse_normalized_3_hidden))\n",
    "\n",
    "df_normalized = pd.DataFrame({\n",
    "    'iteration': x_values,\n",
    "    'mse': mse_normalized_3_hidden\n",
    "})\n",
    "\n",
    "# Save to CSV\n",
    "df_normalized.to_csv('neural_network_regression_normalized_mse_3_hidden_layers.csv', index=False)"
   ]
  },
  {
   "cell_type": "markdown",
   "id": "820a3e9f-0e10-406d-bdd2-44c90feb9e7f",
   "metadata": {},
   "source": [
    "### 5. Reporting the mean and standard deviation of the mean squared errors"
   ]
  },
  {
   "cell_type": "code",
   "execution_count": 50,
   "id": "bfa383ec-ac06-45c2-a206-2882cd5ea84c",
   "metadata": {},
   "outputs": [
    {
     "name": "stdout",
     "output_type": "stream",
     "text": [
      "Mean of MSE: 125.19247268220288\n",
      "Standard Deviation of MSE: 14.158979260068833\n"
     ]
    }
   ],
   "source": [
    "# Calculate the mean and standard deviation\n",
    "mean_mse_3_hidden = np.mean(mse_normalized_3_hidden)\n",
    "std_mse_3_hidden = np.std(mse_normalized_3_hidden)\n",
    "\n",
    "# Print the values on screen\n",
    "print(f\"Mean of MSE: {mean_mse_3_hidden}\")\n",
    "print(f\"Standard Deviation of MSE: {std_mse_3_hidden}\")"
   ]
  },
  {
   "cell_type": "markdown",
   "id": "02cc4c4b-a90a-44b6-8309-42aacf056bf2",
   "metadata": {},
   "source": [
    "For comparison, lets get the mean squared errors calculated from normalized data"
   ]
  },
  {
   "cell_type": "code",
   "execution_count": 55,
   "id": "41c7bb49-eb2c-4098-8387-20d0eb44260c",
   "metadata": {},
   "outputs": [
    {
     "name": "stdout",
     "output_type": "stream",
     "text": [
      "Mean of MSE (unnormalized): 347.9859481570286\n",
      "Standard Deviation of MSE (unnormalized): 94.15356142954823\n"
     ]
    }
   ],
   "source": [
    "df_mse_normalized = pd.read_csv('neural_network_regression_normalized_mse.csv')\n",
    "mean_mse_normalized = df_mse_normalized['mse'].mean()\n",
    "std_mse_normalized = df_mse_normalized['mse'].std(ddof=0)\n",
    "\n",
    "print(f\"Mean of MSE (unnormalized): {mean_mse_normalized}\")\n",
    "print(f\"Standard Deviation of MSE (unnormalized): {std_mse_normalized}\")"
   ]
  },
  {
   "cell_type": "code",
   "execution_count": 59,
   "id": "aa97b124-e5ef-4eb1-8cc6-6f4309f99319",
   "metadata": {},
   "outputs": [
    {
     "data": {
      "image/png": "[encoded data removed]",
      "text/plain": [
       "<Figure size 1200x600 with 2 Axes>"
      ]
     },
     "metadata": {},
     "output_type": "display_data"
    }
   ],
   "source": [
    "x_values = np.arange(len(mse_normalized_3_hidden))\n",
    "\n",
    "# Calculate the overall min and max for y-axis\n",
    "y_min = min(min(mse_normalized_3_hidden), df_mse_normalized['mse'].min())\n",
    "y_max = max(max(mse_normalized_3_hidden), df_mse_normalized['mse'].max())\n",
    "\n",
    "# Add some padding (e.g., 5%) to make sure all elements are visible\n",
    "padding = (y_max - y_min) * 0.05\n",
    "y_min = y_min - padding\n",
    "y_max = y_max + padding\n",
    "\n",
    "plt.figure(figsize=(12, 6))\n",
    "\n",
    "# Normalized data plot\n",
    "plt.subplot(1, 2, 1)\n",
    "plt.scatter(x_values, mse_normalized_3_hidden, alpha=0.6, label='MSE values')\n",
    "plt.axhline(y=mean_mse_3_hidden, color='red', linestyle='--', label='Mean')\n",
    "plt.axhline(y=mean_mse_3_hidden + std_mse_3_hidden, color='green', linestyle='-.', label='Mean + Std')\n",
    "plt.axhline(y=mean_mse_3_hidden - std_mse_3_hidden, color='purple', linestyle='-.', label='Mean - Std')\n",
    "plt.xlabel('Iteration')\n",
    "plt.ylabel('Mean Squared Error')\n",
    "plt.title('MSE Values {3 Hidden Layers} (Linear Scale)')\n",
    "plt.legend()\n",
    "plt.grid(True, alpha=0.3)\n",
    "plt.ylim(y_min, y_max)  # Set y-axis limits\n",
    "\n",
    "# Unnormalized data plot\n",
    "plt.subplot(1, 2, 2)\n",
    "plt.scatter(x_values, df_mse_normalized['mse'], alpha=0.6, label='MSE values')\n",
    "plt.axhline(y=mean_mse_normalized, color='red', linestyle='--', label='Mean')\n",
    "plt.axhline(y=mean_mse_normalized + std_mse_normalized, color='green', linestyle='-.', label='Mean + Std')\n",
    "plt.axhline(y=mean_mse_normalized - std_mse_normalized, color='purple', linestyle='-.', label='Mean - Std')\n",
    "plt.xlabel('Iteration')\n",
    "plt.ylabel('Mean Squared Error')\n",
    "plt.title('MSE Values {1 Hidden Later} (Linear Scale)')\n",
    "plt.legend()\n",
    "plt.grid(True, alpha=0.3)\n",
    "plt.ylim(y_min, y_max)  # Set y-axis limits\n",
    "\n",
    "plt.tight_layout()"
   ]
  },
  {
   "cell_type": "markdown",
   "id": "a20f140b-3efd-4884-b86a-45aa51a54547",
   "metadata": {},
   "source": [
    "### Result"
   ]
  },
  {
   "cell_type": "markdown",
   "id": "476f39c1-c8ea-4691-8803-b9bec77f2fbd",
   "metadata": {},
   "source": [
    "After increasing the number of hidden layers from 1 to 3 (above scatter plot on the left):\n",
    "- Even Lower variability in MSE (1 hidden layer std = 94.15 vs **`3 hidden layers std = 14.16`**)\n",
    "- **`Mean MSE of 125.19`** (was 347.99 for 1 hidden layer)\n",
    "- A few low values of MSE below 100\n",
    "- **`Better model stability`**.\n",
    "\n",
    "<div class=\"alert alert-success\">\n",
    " This lower variability indicates that increasing the hidden layers helped improving the model's performance.\n",
    "</div>\n",
    "\n",
    "\n",
    "\n",
    "\n"
   ]
  },
  {
   "cell_type": "code",
   "execution_count": null,
   "id": "4fffe78b-3ce8-431e-81c5-5fe212cb2999",
   "metadata": {},
   "outputs": [],
   "source": []
  }
 ],
 "metadata": {
  "kernelspec": {
   "display_name": "Python [conda env:nlp]",
   "language": "python",
   "name": "conda-env-nlp-py"
  },
  "language_info": {
   "codemirror_mode": {
    "name": "ipython",
    "version": 3
   },
   "file_extension": ".py",
   "mimetype": "text/x-python",
   "name": "python",
   "nbconvert_exporter": "python",
   "pygments_lexer": "ipython3",
   "version": "3.11.9"
  }
 },
 "nbformat": 4,
 "nbformat_minor": 5
}
